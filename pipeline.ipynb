{
 "cells": [
  {
   "cell_type": "code",
   "execution_count": 83,
   "id": "f66a9be1",
   "metadata": {},
   "outputs": [],
   "source": [
    "from sentence_transformers import SentenceTransformer, util\n",
    "from nltk.corpus import stopwords\n",
    "from tqdm import tqdm\n",
    "import torch\n",
    "#import spacy\n",
    "import dill\n",
    "import re\n",
    "import pandas as pd"
   ]
  },
  {
   "cell_type": "code",
   "execution_count": null,
   "id": "1737eed3",
   "metadata": {},
   "outputs": [],
   "source": [
    "nlp = spacy.load(\"ru_core_news_sm\")"
   ]
  },
  {
   "cell_type": "markdown",
   "id": "2b2bd891",
   "metadata": {},
   "source": [
    "### Очистка данных"
   ]
  },
  {
   "cell_type": "code",
   "execution_count": 19,
   "id": "58e812c5",
   "metadata": {},
   "outputs": [],
   "source": [
    "def find_experience(experience):\n",
    "    if experience=='Не указано':\n",
    "        return -1\n",
    "    else:\n",
    "        result_exp = re.findall(pattern, experience)[0]\n",
    "        mnth = int(result_exp[0])*12 + int(result_exp[1])\n",
    "        return mnth\n",
    "    \n",
    "def experience_to_group(months):\n",
    "    if months < 12:\n",
    "        return 'Нет опыта'\n",
    "    elif 12 <= months < 36:\n",
    "        return 'От 1 года до 3 лет'\n",
    "    elif 36 <= months < 72:\n",
    "        return 'От 3 до 6 лет'\n",
    "    else:\n",
    "        return 'Более 6 лет'\n",
    "\n",
    "def exp_group(value):\n",
    "    if value=='Нет опыта':\n",
    "        return 1\n",
    "    elif value=='От 1 года до 3 лет':\n",
    "        return 2\n",
    "    elif value=='От 3 до 6 лет':\n",
    "        return 3\n",
    "    else:\n",
    "        return 4\n",
    "    \n",
    "def extract_skills(text):\n",
    "    doc = nlp(text)\n",
    "    skills = [token.text for token in doc if token.pos_ in {'NOUN', 'ADJ'} and token.text.lower() not in stop_words]\n",
    "    return ' '.join(skills)"
   ]
  },
  {
   "cell_type": "code",
   "execution_count": 30,
   "id": "95d6d760",
   "metadata": {},
   "outputs": [],
   "source": [
    "columns = ['title', 'location', 'salary', 'experience_group', 'job_type', 'description']\n",
    "\n",
    "ban_words = ['руб', 'месяц', '/', 'июнь', 'июль', 'август', 'сентябрь', 'октябрь', 'декабрь', 'январь', 'февраль', 'март', 'апрель','опыт', 'работы', 'месяца', 'месяцев', 'год', 'года', 'лет','настоящее','время']\n",
    "\n",
    "stop_words = set(stopwords.words('russian') + ban_words)"
   ]
  },
  {
   "cell_type": "markdown",
   "id": "95a7c31f",
   "metadata": {},
   "source": [
    "#### Резюме"
   ]
  },
  {
   "cell_type": "code",
   "execution_count": 60,
   "id": "060fcf7f",
   "metadata": {},
   "outputs": [],
   "source": [
    "cv = pd.read_csv('data/hh_cv.csv', on_bad_lines='skip', encoding='utf-8', sep=';')\n",
    "\n",
    "cv['job_type'] = cv['Занятость'] + ', ' + cv['График']\n",
    "\n",
    "cv = cv.drop(['Пол, возраст', 'Обновление резюме', 'Авто', 'Последнее/нынешнее место работы', 'Последняя/нынешняя должность', 'Образование и ВУЗ', 'Занятость', 'График'], axis=1)\n",
    "\n",
    "cv = cv.rename(columns={\n",
    "    'Ищет работу на должность:':'title',\n",
    "    'ЗП':'salary',\n",
    "    'Город, переезд, командировки':'location',\n",
    "    'График':'job_type',\n",
    "    'Опыт работы':'experience',\n",
    "    'Последнее/нынешнее место работы':'last_job'\n",
    "})\n",
    "\n",
    "cv.salary = cv.salary.apply(lambda value: value.split(' ')[0])\n",
    "\n",
    "cv.location = cv.location.apply(lambda value: value.split(' ')[0])\n",
    "\n",
    "cv.experience = cv.experience.fillna('0 0')\n",
    "cv['experience_month'] = cv.apply(lambda row: find_experience(row.experience), axis=1)\n",
    "cv['experience_group'] = cv.experience_month.apply(experience_to_group)\n",
    "\n",
    "cv = cv.rename(columns={\n",
    "    'experience_clean_list':'description'\n",
    "})\n",
    "\n",
    "cv.salary = cv.salary.astype('float64')\n",
    "\n",
    "cv.job_type = cv.job_type.apply(lambda value: value.capitalize())\n",
    "\n",
    "cv.description = cv.description.fillna('')\n",
    "cv.description = cv.description.apply(lambda value: ''.join([i for i in value if not i.isdigit()]))\n",
    "cv.description = cv.description.apply(lambda value: ' '.join(value.split()))\n",
    "cv.description = cv.description.apply(lambda value: ' '.join([i for i in value.split(' ') if i not in ban_words]))\n",
    "\n",
    "cv['exp_group_num'] = cv.experience_group.apply(exp_group)\n",
    "\n",
    "cv['description'] = [extract_skills(i) for i in tqdm(cv.experience.values)]\n",
    "\n",
    "cv = cv[cols]"
   ]
  },
  {
   "cell_type": "code",
   "execution_count": 67,
   "id": "000e10e8",
   "metadata": {},
   "outputs": [
    {
     "data": {
      "text/html": [
       "<div>\n",
       "<style scoped>\n",
       "    .dataframe tbody tr th:only-of-type {\n",
       "        vertical-align: middle;\n",
       "    }\n",
       "\n",
       "    .dataframe tbody tr th {\n",
       "        vertical-align: top;\n",
       "    }\n",
       "\n",
       "    .dataframe thead th {\n",
       "        text-align: right;\n",
       "    }\n",
       "</style>\n",
       "<table border=\"1\" class=\"dataframe\">\n",
       "  <thead>\n",
       "    <tr style=\"text-align: right;\">\n",
       "      <th></th>\n",
       "      <th>title</th>\n",
       "      <th>location</th>\n",
       "      <th>salary</th>\n",
       "      <th>experience_group</th>\n",
       "      <th>job_type</th>\n",
       "      <th>description</th>\n",
       "    </tr>\n",
       "  </thead>\n",
       "  <tbody>\n",
       "    <tr>\n",
       "      <th>0</th>\n",
       "      <td>Системный администратор</td>\n",
       "      <td>Советск</td>\n",
       "      <td>29000.0</td>\n",
       "      <td>Более 6 лет</td>\n",
       "      <td>Частичная занятость, проектная работа, полная ...</td>\n",
       "      <td>СОШ г Немана Системный администратор установка...</td>\n",
       "    </tr>\n",
       "    <tr>\n",
       "      <th>1</th>\n",
       "      <td>Технический писатель</td>\n",
       "      <td>Королев</td>\n",
       "      <td>40000.0</td>\n",
       "      <td>Более 6 лет</td>\n",
       "      <td>Частичная занятость, проектная работа, полная ...</td>\n",
       "      <td>Временный трудовой коллектив Информационные те...</td>\n",
       "    </tr>\n",
       "    <tr>\n",
       "      <th>2</th>\n",
       "      <td>Оператор</td>\n",
       "      <td>Тверь</td>\n",
       "      <td>20000.0</td>\n",
       "      <td>Более 6 лет</td>\n",
       "      <td>Полная занятость, полный день</td>\n",
       "      <td>операционист денежной наличностью обслуживание...</td>\n",
       "    </tr>\n",
       "    <tr>\n",
       "      <th>3</th>\n",
       "      <td>Веб-разработчик (HTML / CSS / JS / PHP / базы ...</td>\n",
       "      <td>Саратов</td>\n",
       "      <td>100000.0</td>\n",
       "      <td>Более 6 лет</td>\n",
       "      <td>Частичная занятость, проектная работа, полная ...</td>\n",
       "      <td>Информационные технологии системная интеграция...</td>\n",
       "    </tr>\n",
       "    <tr>\n",
       "      <th>4</th>\n",
       "      <td>Региональный менеджер по продажам</td>\n",
       "      <td>Москва</td>\n",
       "      <td>140000.0</td>\n",
       "      <td>От 3 до 6 лет</td>\n",
       "      <td>Полная занятость, полный день</td>\n",
       "      <td>Региональный менеджер продажам Информационные ...</td>\n",
       "    </tr>\n",
       "  </tbody>\n",
       "</table>\n",
       "</div>"
      ],
      "text/plain": [
       "                                               title location    salary  \\\n",
       "0                            Системный администратор  Советск   29000.0   \n",
       "1                               Технический писатель  Королев   40000.0   \n",
       "2                                           Оператор    Тверь   20000.0   \n",
       "3  Веб-разработчик (HTML / CSS / JS / PHP / базы ...  Саратов  100000.0   \n",
       "4                  Региональный менеджер по продажам   Москва  140000.0   \n",
       "\n",
       "  experience_group                                           job_type  \\\n",
       "0      Более 6 лет  Частичная занятость, проектная работа, полная ...   \n",
       "1      Более 6 лет  Частичная занятость, проектная работа, полная ...   \n",
       "2      Более 6 лет                      Полная занятость, полный день   \n",
       "3      Более 6 лет  Частичная занятость, проектная работа, полная ...   \n",
       "4    От 3 до 6 лет                      Полная занятость, полный день   \n",
       "\n",
       "                                         description  \n",
       "0  СОШ г Немана Системный администратор установка...  \n",
       "1  Временный трудовой коллектив Информационные те...  \n",
       "2  операционист денежной наличностью обслуживание...  \n",
       "3  Информационные технологии системная интеграция...  \n",
       "4  Региональный менеджер продажам Информационные ...  "
      ]
     },
     "execution_count": 67,
     "metadata": {},
     "output_type": "execute_result"
    }
   ],
   "source": [
    "cv.head()"
   ]
  },
  {
   "cell_type": "code",
   "execution_count": 77,
   "id": "81d65a14",
   "metadata": {},
   "outputs": [],
   "source": [
    "cv.to_csv('cv_clean.csv')"
   ]
  },
  {
   "cell_type": "markdown",
   "id": "9041276b",
   "metadata": {},
   "source": [
    "#### Вакансии"
   ]
  },
  {
   "cell_type": "code",
   "execution_count": 84,
   "id": "e537234f",
   "metadata": {
    "scrolled": true
   },
   "outputs": [],
   "source": [
    "vacancy = pd.read_csv('data/hh_vacancy.csv', on_bad_lines='skip', encoding='utf-8', sep=';')\n",
    "\n",
    "vacancy = vacancy.dropna()\n",
    "\n",
    "vacancy = vacancy.drop(['company','date_of_post','type','№','id', 'description'], axis=1)\n",
    "\n",
    "vacancy = vacancy.rename(columns={\n",
    "    'experience': 'experience_group',\n",
    "    'key_skills': 'description'\n",
    "})\n",
    "\n",
    "def extract_average_salary(salary_range):\n",
    "    # Поиск числовых значений в строке\n",
    "    numbers = [int(match.group()) for match in re.finditer(r'\\b\\d+\\b', salary_range)]\n",
    "    \n",
    "    # Если числа найдены, возвращаем среднее значение, иначе возвращаем None\n",
    "    if numbers:\n",
    "        return sum(numbers) / len(numbers)\n",
    "    else:\n",
    "        return None\n",
    "    \n",
    "vacancy.salary = vacancy.salary.apply(extract_average_salary)\n",
    "\n",
    "vacancy.location = vacancy.location.apply(lambda value: value.replace('г.', '').split(',')[0])\n",
    "\n",
    "vacancy = vacancy.dropna()\n",
    "\n",
    "vacancy['exp_group_num'] = vacancy.experience_group.apply(exp_group)\n",
    "\n",
    "vacancy.description = vacancy.description.str.replace(',',', ')\n",
    "vacancy.job_type = vacancy.job_type.str.replace(',',', ')\n",
    "\n",
    "vacancy = vacancy[cols]\n",
    "\n",
    "vacancy = vacancy.reset_index().drop('index', axis=1)"
   ]
  },
  {
   "cell_type": "code",
   "execution_count": null,
   "id": "7304f469",
   "metadata": {},
   "outputs": [],
   "source": [
    "vacancy.head()"
   ]
  },
  {
   "cell_type": "code",
   "execution_count": null,
   "id": "bfd7ccd7",
   "metadata": {},
   "outputs": [],
   "source": [
    "vacancy.to_csv('data/vacancy_clean.csv')"
   ]
  },
  {
   "cell_type": "markdown",
   "id": "d1cb5dc2",
   "metadata": {},
   "source": [
    "#### Получение эмбеддингов"
   ]
  },
  {
   "cell_type": "code",
   "execution_count": 16,
   "id": "09e979d0",
   "metadata": {},
   "outputs": [],
   "source": [
    "cv = pd.read_csv('data/cv_clean.csv', index_col=0)"
   ]
  },
  {
   "cell_type": "code",
   "execution_count": 21,
   "id": "921ec908",
   "metadata": {},
   "outputs": [],
   "source": [
    "vacancy = pd.read_csv('data/vacancy_clean.csv', index_col=0)"
   ]
  },
  {
   "cell_type": "code",
   "execution_count": 22,
   "id": "3247dc28",
   "metadata": {},
   "outputs": [],
   "source": [
    "model_name = 'intfloat/multilingual-e5-large'\n",
    "\n",
    "model = SentenceTransformer(model_name)"
   ]
  },
  {
   "cell_type": "code",
   "execution_count": 23,
   "id": "a655a227",
   "metadata": {},
   "outputs": [
    {
     "name": "stdout",
     "output_type": "stream",
     "text": [
      "Using device: cuda\n"
     ]
    }
   ],
   "source": [
    "device = 'cuda' if torch.cuda.is_available() else 'cpu'\n",
    "print(f'Using device: {device}')"
   ]
  },
  {
   "cell_type": "code",
   "execution_count": 100,
   "id": "2775aec8",
   "metadata": {},
   "outputs": [],
   "source": [
    "%%time\n",
    "\n",
    "cv_embedding_e5 = model.encode(cv.apply(lambda row: '. '.join(row.astype(str)), axis=1), convert_to_tensor=True, device='cuda')"
   ]
  },
  {
   "cell_type": "code",
   "execution_count": 97,
   "id": "e876b6d2",
   "metadata": {},
   "outputs": [],
   "source": [
    "with open('emb/cv_embedding_e5.dill', 'wb') as f:\n",
    "    dill.dump(cv_embedding_e5, f)"
   ]
  },
  {
   "cell_type": "code",
   "execution_count": 99,
   "id": "287274ca",
   "metadata": {},
   "outputs": [],
   "source": [
    "%%time\n",
    "\n",
    "vc_embedding_e5 = model.encode(vacancy.apply(lambda row: '. '.join(row.astype(str)), axis=1), convert_to_tensor=True, device='cuda')"
   ]
  },
  {
   "cell_type": "code",
   "execution_count": 98,
   "id": "777450b9",
   "metadata": {},
   "outputs": [],
   "source": [
    "with open('emb/vacancy_embedding_e5.dill', 'wb') as f:\n",
    "    dill.dump(vc_embedding_e5, f)"
   ]
  },
  {
   "cell_type": "code",
   "execution_count": 27,
   "id": "5671e2c4",
   "metadata": {},
   "outputs": [
    {
     "name": "stdout",
     "output_type": "stream",
     "text": [
      "CPU times: total: 1min 28s\n",
      "Wall time: 1min 18s\n"
     ]
    }
   ],
   "source": [
    "%%time\n",
    "\n",
    "cv_embedding_e5_small = model.encode(cv.drop('description', axis=1).apply(lambda row: '. '.join(row.astype(str)), axis=1), convert_to_tensor=True, device='cuda')"
   ]
  },
  {
   "cell_type": "code",
   "execution_count": 29,
   "id": "8c1bbd57",
   "metadata": {},
   "outputs": [
    {
     "data": {
      "text/plain": [
       "torch.Size([1024])"
      ]
     },
     "execution_count": 29,
     "metadata": {},
     "output_type": "execute_result"
    }
   ],
   "source": [
    "cv_embedding_e5_small[0].shape"
   ]
  },
  {
   "cell_type": "code",
   "execution_count": 28,
   "id": "6c838ddc",
   "metadata": {},
   "outputs": [],
   "source": [
    "with open('emb/cv_embedding_e5_small.dill', 'wb') as f:\n",
    "    dill.dump(cv_embedding_e5_small, f)"
   ]
  },
  {
   "cell_type": "markdown",
   "id": "275c4af8",
   "metadata": {},
   "source": [
    "#### Пример использования"
   ]
  },
  {
   "cell_type": "code",
   "execution_count": null,
   "id": "4552c5ff",
   "metadata": {},
   "outputs": [],
   "source": [
    "ban_words = ['опыт', 'работы', 'месяца', 'месяцев', 'год', 'года', 'лет','настоящее','время', 'руб', 'месяц', 'июнь', 'июль', 'август', 'сентябрь', 'октябрь', 'декабрь', 'январь', 'февраль', 'март', 'апрель']\n",
    "\n",
    "stop_words = set(stopwords.words('russian') + ban_words)\n",
    "\n",
    "def extract_skills(text):\n",
    "    doc = nlp(text)\n",
    "    skills = [token.text for token in doc if token.pos_ in {'NOUN', 'ADJ'} and token.text.lower() not in stop_words]\n",
    "    return skills\n",
    "\n",
    "def sem_search_results_cv(model, base_query, corpus, corpus_embedding, top_k):\n",
    "    query_list = extract_skills(base_query.split('\\n')[-1]) + base_query.split('\\n')[:-1]\n",
    "    query = ' '.join(query_list)\n",
    "    \n",
    "    question_embedding = model.encode(query, convert_to_tensor=True)\n",
    "    hits = util.semantic_search(question_embedding, corpus_embedding, top_k=top_k)\n",
    "    hits = hits[0] \n",
    "\n",
    "    print(base_query)\n",
    "    print()\n",
    "    cross_inp_res = [[corpus[hit['corpus_id']], hit['score']] for hit in hits]\n",
    "    cross_inp_emb = [question_embedding[0]] + [corpus_embedding[hit['corpus_id']] for hit in hits]\n",
    "    return cross_inp_res\n",
    "\n",
    "def sem_search_results_vc(model, base_query, corpus, corpus_embedding, top_k):\n",
    "    question_embedding = model.encode(base_query, convert_to_tensor=True)\n",
    "    hits = util.semantic_search(question_embedding, corpus_embedding, top_k=top_k)\n",
    "    hits = hits[0] \n",
    "\n",
    "    print(base_query)\n",
    "    print()\n",
    "    cross_inp_res = [[corpus[hit['corpus_id']], hit['score']] for hit in hits]\n",
    "    cross_inp_emb = [question_embedding[0]] + [corpus_embedding[hit['corpus_id']] for hit in hits]\n",
    "    return cross_inp_res"
   ]
  },
  {
   "cell_type": "code",
   "execution_count": 117,
   "id": "6295e02c",
   "metadata": {},
   "outputs": [],
   "source": [
    "cv_list = cv.apply(lambda row: '. '.join(row.astype(str)), axis=1).to_list()\n",
    "vacancy_list = vacancy.apply(lambda row: '. '.join(row.astype(str)), axis=1).to_list()"
   ]
  },
  {
   "cell_type": "code",
   "execution_count": 159,
   "id": "f9bea625",
   "metadata": {},
   "outputs": [],
   "source": [
    "cv_exmaple = \\\n",
    "\"\"\"Системный администратор.\n",
    "Советск. 29000.0. Более 6 лет.\n",
    "Полная занятость, гибкий график, полный день.\n",
    "Консультирование клиентов компании. Поддержание в рабочем состоянии компьютерной техники и программного обеспечения информационного отдела Разработка и поддержка локального программного обеспечения отдела. Сборка компьютеров для новых сотрудников.\"\"\""
   ]
  },
  {
   "cell_type": "code",
   "execution_count": 183,
   "id": "5ef1359c",
   "metadata": {},
   "outputs": [
    {
     "name": "stdout",
     "output_type": "stream",
     "text": [
      "Системный администратор.\n",
      "Советск. 29000.0. Более 6 лет.\n",
      "Полная занятость, гибкий график, полный день.\n",
      "Консультирование клиентов компании. Поддержание в рабочем состоянии компьютерной техники и программного обеспечения информационного отдела Разработка и поддержка локального программного обеспечения отдела. Сборка компьютеров для новых сотрудников.\n",
      "\n"
     ]
    },
    {
     "data": {
      "text/plain": [
       "[['Системный администратор. Курск. 50000.0. От 1 года до 3 лет. Полная занятость, полный день. Настройка ПК, Сборка ПК, Настройка сетевых подключений, Настройка ПО, Организация рабочих мест',\n",
       "  0.9202420115470886],\n",
       " ['Помощник системного администратора. Новосибирск. 60000.0. От 1 года до 3 лет. Полная занятость, полный день. Сборка ПК, Настройка ПК, Администрирование сетевого оборудования, Монтаж ЛВС, Телефония, Умение работать в коллективе, Системы видеонаблюдения',\n",
       "  0.9201076030731201],\n",
       " ['Системный администратор. Москва. 150000.0. От 3 до 6 лет. Полная занятость, полный день. Настройка ПК, Настройка ПО, Администрирование сайтов, Техническая поддержка, Обеспечение антивирусной защиты, Администрирование сетевого оборудования, Информационные технологии, Администрирование серверов, Информационная безопасность',\n",
       "  0.9199874997138977]]"
      ]
     },
     "execution_count": 183,
     "metadata": {},
     "output_type": "execute_result"
    }
   ],
   "source": [
    "sem_search_results(model, cv_exmaple, vacancy_list, vc_embedding_e5, 3)"
   ]
  },
  {
   "cell_type": "code",
   "execution_count": 198,
   "id": "7b0f0c34",
   "metadata": {},
   "outputs": [],
   "source": [
    "vc_example = \"\"\"\n",
    "Управляющий рестораном. \n",
    "Москва. 100000.0. \n",
    "От 3 до 6 лет. \n",
    "Полная занятость, полный день. \n",
    "Умение работать в условиях многозадачности.\n",
    "\"\"\""
   ]
  },
  {
   "cell_type": "code",
   "execution_count": 201,
   "id": "1da86438",
   "metadata": {},
   "outputs": [
    {
     "data": {
      "text/html": [
       "<div>\n",
       "<style scoped>\n",
       "    .dataframe tbody tr th:only-of-type {\n",
       "        vertical-align: middle;\n",
       "    }\n",
       "\n",
       "    .dataframe tbody tr th {\n",
       "        vertical-align: top;\n",
       "    }\n",
       "\n",
       "    .dataframe thead th {\n",
       "        text-align: right;\n",
       "    }\n",
       "</style>\n",
       "<table border=\"1\" class=\"dataframe\">\n",
       "  <thead>\n",
       "    <tr style=\"text-align: right;\">\n",
       "      <th></th>\n",
       "      <th>title</th>\n",
       "      <th>location</th>\n",
       "      <th>salary</th>\n",
       "      <th>experience_group</th>\n",
       "      <th>job_type</th>\n",
       "      <th>description</th>\n",
       "    </tr>\n",
       "  </thead>\n",
       "  <tbody>\n",
       "    <tr>\n",
       "      <th>0</th>\n",
       "      <td>Системный администратор</td>\n",
       "      <td>Советск</td>\n",
       "      <td>29000.0</td>\n",
       "      <td>Более 6 лет</td>\n",
       "      <td>Частичная занятость, проектная работа, полная ...</td>\n",
       "      <td>СОШ г Немана Системный администратор установка...</td>\n",
       "    </tr>\n",
       "    <tr>\n",
       "      <th>1</th>\n",
       "      <td>Технический писатель</td>\n",
       "      <td>Королев</td>\n",
       "      <td>40000.0</td>\n",
       "      <td>Более 6 лет</td>\n",
       "      <td>Частичная занятость, проектная работа, полная ...</td>\n",
       "      <td>Временный трудовой коллектив Информационные те...</td>\n",
       "    </tr>\n",
       "    <tr>\n",
       "      <th>2</th>\n",
       "      <td>Оператор</td>\n",
       "      <td>Тверь</td>\n",
       "      <td>20000.0</td>\n",
       "      <td>Более 6 лет</td>\n",
       "      <td>Полная занятость, полный день</td>\n",
       "      <td>операционист денежной наличностью обслуживание...</td>\n",
       "    </tr>\n",
       "    <tr>\n",
       "      <th>3</th>\n",
       "      <td>Веб-разработчик (HTML / CSS / JS / PHP / базы ...</td>\n",
       "      <td>Саратов</td>\n",
       "      <td>100000.0</td>\n",
       "      <td>Более 6 лет</td>\n",
       "      <td>Частичная занятость, проектная работа, полная ...</td>\n",
       "      <td>Информационные технологии системная интеграция...</td>\n",
       "    </tr>\n",
       "    <tr>\n",
       "      <th>4</th>\n",
       "      <td>Региональный менеджер по продажам</td>\n",
       "      <td>Москва</td>\n",
       "      <td>140000.0</td>\n",
       "      <td>От 3 до 6 лет</td>\n",
       "      <td>Полная занятость, полный день</td>\n",
       "      <td>Региональный менеджер продажам Информационные ...</td>\n",
       "    </tr>\n",
       "    <tr>\n",
       "      <th>...</th>\n",
       "      <td>...</td>\n",
       "      <td>...</td>\n",
       "      <td>...</td>\n",
       "      <td>...</td>\n",
       "      <td>...</td>\n",
       "      <td>...</td>\n",
       "    </tr>\n",
       "    <tr>\n",
       "      <th>44739</th>\n",
       "      <td>Финансист, аналитик, экономист, бухгалтер, мен...</td>\n",
       "      <td>Тверь</td>\n",
       "      <td>50000.0</td>\n",
       "      <td>Более 6 лет</td>\n",
       "      <td>Полная занятость, полный день, удаленная работа</td>\n",
       "      <td>аналитик экономист бухгалтер менеджер Информац...</td>\n",
       "    </tr>\n",
       "    <tr>\n",
       "      <th>44740</th>\n",
       "      <td>Системный администратор, IT-специалист</td>\n",
       "      <td>Липецк</td>\n",
       "      <td>39000.0</td>\n",
       "      <td>Более 6 лет</td>\n",
       "      <td>Проектная работа, частичная занятость, полная ...</td>\n",
       "      <td>Системный администратор Информационные техноло...</td>\n",
       "    </tr>\n",
       "    <tr>\n",
       "      <th>44741</th>\n",
       "      <td>Аналитик данных, Математик</td>\n",
       "      <td>Челябинск</td>\n",
       "      <td>40000.0</td>\n",
       "      <td>Более 6 лет</td>\n",
       "      <td>Полная занятость, полный день, удаленная работа</td>\n",
       "      <td>ОАО ЧМК Исследовательско - Технологический Нач...</td>\n",
       "    </tr>\n",
       "    <tr>\n",
       "      <th>44742</th>\n",
       "      <td>Контент-менеджер</td>\n",
       "      <td>Тамбов</td>\n",
       "      <td>20000.0</td>\n",
       "      <td>От 3 до 6 лет</td>\n",
       "      <td>Частичная занятость, полная занятость, удаленн...</td>\n",
       "      <td>Контент - менеджер Информационные технологии и...</td>\n",
       "    </tr>\n",
       "    <tr>\n",
       "      <th>44743</th>\n",
       "      <td>Руководитель проекта</td>\n",
       "      <td>Москва</td>\n",
       "      <td>120000.0</td>\n",
       "      <td>Более 6 лет</td>\n",
       "      <td>Полная занятость, полный день</td>\n",
       "      <td>Руководитель проекта Информационные технологии...</td>\n",
       "    </tr>\n",
       "  </tbody>\n",
       "</table>\n",
       "<p>44744 rows × 6 columns</p>\n",
       "</div>"
      ],
      "text/plain": [
       "                                                   title   location    salary  \\\n",
       "0                                Системный администратор    Советск   29000.0   \n",
       "1                                   Технический писатель    Королев   40000.0   \n",
       "2                                               Оператор      Тверь   20000.0   \n",
       "3      Веб-разработчик (HTML / CSS / JS / PHP / базы ...    Саратов  100000.0   \n",
       "4                      Региональный менеджер по продажам     Москва  140000.0   \n",
       "...                                                  ...        ...       ...   \n",
       "44739  Финансист, аналитик, экономист, бухгалтер, мен...      Тверь   50000.0   \n",
       "44740             Системный администратор, IT-специалист     Липецк   39000.0   \n",
       "44741                         Аналитик данных, Математик  Челябинск   40000.0   \n",
       "44742                                   Контент-менеджер     Тамбов   20000.0   \n",
       "44743                               Руководитель проекта     Москва  120000.0   \n",
       "\n",
       "      experience_group                                           job_type  \\\n",
       "0          Более 6 лет  Частичная занятость, проектная работа, полная ...   \n",
       "1          Более 6 лет  Частичная занятость, проектная работа, полная ...   \n",
       "2          Более 6 лет                      Полная занятость, полный день   \n",
       "3          Более 6 лет  Частичная занятость, проектная работа, полная ...   \n",
       "4        От 3 до 6 лет                      Полная занятость, полный день   \n",
       "...                ...                                                ...   \n",
       "44739      Более 6 лет    Полная занятость, полный день, удаленная работа   \n",
       "44740      Более 6 лет  Проектная работа, частичная занятость, полная ...   \n",
       "44741      Более 6 лет    Полная занятость, полный день, удаленная работа   \n",
       "44742    От 3 до 6 лет  Частичная занятость, полная занятость, удаленн...   \n",
       "44743      Более 6 лет                      Полная занятость, полный день   \n",
       "\n",
       "                                             description  \n",
       "0      СОШ г Немана Системный администратор установка...  \n",
       "1      Временный трудовой коллектив Информационные те...  \n",
       "2      операционист денежной наличностью обслуживание...  \n",
       "3      Информационные технологии системная интеграция...  \n",
       "4      Региональный менеджер продажам Информационные ...  \n",
       "...                                                  ...  \n",
       "44739  аналитик экономист бухгалтер менеджер Информац...  \n",
       "44740  Системный администратор Информационные техноло...  \n",
       "44741  ОАО ЧМК Исследовательско - Технологический Нач...  \n",
       "44742  Контент - менеджер Информационные технологии и...  \n",
       "44743  Руководитель проекта Информационные технологии...  \n",
       "\n",
       "[44744 rows x 6 columns]"
      ]
     },
     "execution_count": 201,
     "metadata": {},
     "output_type": "execute_result"
    }
   ],
   "source": [
    "cv"
   ]
  },
  {
   "cell_type": "code",
   "execution_count": 200,
   "id": "88c25473",
   "metadata": {},
   "outputs": [],
   "source": [
    "cv_base = pd.read_csv('data/hh_cv.csv', on_bad_lines='skip', encoding='utf-8', sep=';')"
   ]
  },
  {
   "cell_type": "code",
   "execution_count": 207,
   "id": "1275a14f",
   "metadata": {},
   "outputs": [],
   "source": [
    "cv['description_base'] = cv_base['Опыт работы']"
   ]
  },
  {
   "cell_type": "code",
   "execution_count": 199,
   "id": "32271946",
   "metadata": {},
   "outputs": [
    {
     "name": "stdout",
     "output_type": "stream",
     "text": [
      "\n",
      "Управляющий рестораном. \n",
      "Москва. 100000.0. \n",
      "От 3 до 6 лет. \n",
      "Полная занятость, полный день. \n",
      "Умение работать в условиях многозадачности.\n",
      "\n",
      "\n"
     ]
    },
    {
     "data": {
      "text/plain": [
       "[['Менеджер. Москва. 100000.0. От 3 до 6 лет. Полная занятость, полный день. Информационные технологии интернет телеком полная занятость полный день Ведущий',\n",
       "  0.9219639897346497],\n",
       " ['Администратор. Москва. 10000.0. Более 6 лет. Полная занятость, полный день. кафе работа клиентами разрешение проблем клиентами работа кассой',\n",
       "  0.9217270016670227],\n",
       " ['управляющий. Москва. 80000.0. Более 6 лет. Полная занятость, полный день. силы персоналом армии навыки пайки замены контроллера питания телефоне электрике Дипломатичный подход решению конфликтных ситуаций Готов задачи управления подход клиенту компании фирме конкурентам нестандартные задачи выход',\n",
       "  0.9205193519592285]]"
      ]
     },
     "execution_count": 199,
     "metadata": {},
     "output_type": "execute_result"
    }
   ],
   "source": [
    "sem_search_results_vc(model, vc_example, cv_list, cv_embedding_e5, 3)"
   ]
  },
  {
   "cell_type": "code",
   "execution_count": 213,
   "id": "71c9c281",
   "metadata": {},
   "outputs": [],
   "source": [
    "vacancy_list = vacancy.apply(lambda row: '\\n'.join(row.astype(str)), axis=1).to_list()"
   ]
  },
  {
   "cell_type": "code",
   "execution_count": 214,
   "id": "50310d2f",
   "metadata": {},
   "outputs": [],
   "source": [
    "cv_list = cv.drop('description', axis=1).apply(lambda row: '\\n'.join(row.astype(str)), axis=1).to_list()"
   ]
  },
  {
   "cell_type": "code",
   "execution_count": 221,
   "id": "5d021bae",
   "metadata": {},
   "outputs": [],
   "source": [
    "cv_list_small = cv.drop(['description','description_base'], axis=1).apply(lambda row: '\\n'.join(row.astype(str)), axis=1).to_list()"
   ]
  },
  {
   "cell_type": "code",
   "execution_count": 215,
   "id": "c5eb8098",
   "metadata": {},
   "outputs": [],
   "source": [
    "with open('emb/vacancy_list.dill', 'wb') as f:\n",
    "    dill.dump(vacancy_list, f)"
   ]
  },
  {
   "cell_type": "code",
   "execution_count": 217,
   "id": "f6df7b9e",
   "metadata": {},
   "outputs": [],
   "source": [
    "with open('emb/cv_list.dill', 'wb') as f:\n",
    "    dill.dump(cv_list, f)"
   ]
  },
  {
   "cell_type": "code",
   "execution_count": 222,
   "id": "ec826e4a",
   "metadata": {},
   "outputs": [],
   "source": [
    "with open('emb/cv_list_small.dill', 'wb') as f:\n",
    "    dill.dump(cv_list_small, f)"
   ]
  },
  {
   "cell_type": "markdown",
   "id": "441ef30b",
   "metadata": {},
   "source": [
    "### qdrant"
   ]
  },
  {
   "cell_type": "code",
   "execution_count": 30,
   "id": "7bf533ee",
   "metadata": {},
   "outputs": [],
   "source": [
    "from qdrant_client import models\n",
    "from qdrant_client import QdrantClient\n",
    "from qdrant_client.http.models import Distance, VectorParams\n",
    "\n",
    "import dill"
   ]
  },
  {
   "cell_type": "code",
   "execution_count": 31,
   "id": "d9af0fd7",
   "metadata": {},
   "outputs": [],
   "source": [
    "with open(\"emb/vacancy_embedding_e5.dill\", \"rb\") as f:\n",
    "    vacancy_embedding_e5 = dill.load(f)\n",
    "    \n",
    "with open(\"emb/cv_embedding_e5.dill\", \"rb\") as f:\n",
    "    cv_embedding_e5 = dill.load(f)"
   ]
  },
  {
   "cell_type": "code",
   "execution_count": 32,
   "id": "4cd93948",
   "metadata": {},
   "outputs": [],
   "source": [
    "with open(\"emb/vacancy_list.dill\", \"rb\") as f:\n",
    "    vacancy_list = dill.load(f)\n",
    "    \n",
    "with open(\"emb/cv_list.dill\", \"rb\") as f:\n",
    "    cv_list = dill.load(f)"
   ]
  },
  {
   "cell_type": "code",
   "execution_count": 33,
   "id": "040ab331",
   "metadata": {},
   "outputs": [],
   "source": [
    "qdrant_client = QdrantClient(\n",
    "    url=\"https://c457e10a-65e6-4023-95fb-5e84bcf5fc5f.us-east4-0.gcp.cloud.qdrant.io:6333\", \n",
    "    api_key=\"znIMw4rgEny3fri-SeMNk7QSuCcOQ3VLrX4_z6cEEklxgZPGhxyZgw\",\n",
    ")"
   ]
  },
  {
   "cell_type": "code",
   "execution_count": 75,
   "id": "d2702a95",
   "metadata": {},
   "outputs": [
    {
     "data": {
      "text/plain": [
       "CollectionsResponse(collections=[CollectionDescription(name='cv_vectors'), CollectionDescription(name='vc_vectors')])"
      ]
     },
     "execution_count": 75,
     "metadata": {},
     "output_type": "execute_result"
    }
   ],
   "source": [
    "qdrant_client.get_collections()"
   ]
  },
  {
   "cell_type": "code",
   "execution_count": 46,
   "id": "1cd79c01",
   "metadata": {},
   "outputs": [
    {
     "data": {
      "text/plain": [
       "True"
      ]
     },
     "execution_count": 46,
     "metadata": {},
     "output_type": "execute_result"
    }
   ],
   "source": [
    "#qdrant_client.delete_collection(collection_name=\"cv_vectors\")"
   ]
  },
  {
   "cell_type": "code",
   "execution_count": 6,
   "id": "ee63dc93",
   "metadata": {},
   "outputs": [],
   "source": [
    "cv_vector_lists = [vector.tolist() for vector in cv_embedding_e5]\n",
    "\n",
    "cv_names = [i.split('\\n') for i in cv_list]"
   ]
  },
  {
   "cell_type": "code",
   "execution_count": 52,
   "id": "4939d008",
   "metadata": {},
   "outputs": [],
   "source": [
    "cv_records=[\n",
    "        models.Record(\n",
    "            id=idx, vector=doc, payload={'title':cv_names[idx]})\n",
    "        for idx, doc in enumerate(cv_vector_lists)\n",
    "    ]\n",
    "\n",
    "qdrant_client.recreate_collection(\n",
    "    collection_name=\"cv_vectors\",\n",
    "    vectors_config=VectorParams(\n",
    "        size=1024, \n",
    "        distance=models.Distance.COSINE,\n",
    "    ),\n",
    ")\n",
    "\n",
    "qdrant_client.upload_records(\n",
    "    collection_name=\"cv_vectors\",\n",
    "    records=cv_records,\n",
    ")"
   ]
  },
  {
   "cell_type": "code",
   "execution_count": 38,
   "id": "14dd1bae",
   "metadata": {},
   "outputs": [],
   "source": [
    "vc_vector_lists = [vector.tolist() for vector in vacancy_embedding_e5]\n",
    "\n",
    "vc_names = [i.split('\\n')[0] for i in vacancy_list]"
   ]
  },
  {
   "cell_type": "code",
   "execution_count": 39,
   "id": "545c5ad7",
   "metadata": {},
   "outputs": [],
   "source": [
    "#Обрезаем вакансии\n",
    "N = 40000\n",
    "\n",
    "vc_vector_lists = vc_vector_lists[:N]"
   ]
  },
  {
   "cell_type": "code",
   "execution_count": 40,
   "id": "a78c91bb",
   "metadata": {},
   "outputs": [],
   "source": [
    "vc_records=[\n",
    "        models.Record(\n",
    "            id=idx, vector=doc, payload={'title':vc_names[idx]})\n",
    "        for idx, doc in enumerate(vc_vector_lists)\n",
    "    ]\n",
    "\n",
    "qdrant_client.recreate_collection(\n",
    "    collection_name=\"vc_vectors\",\n",
    "    vectors_config=VectorParams(\n",
    "        size=1024, \n",
    "        distance=models.Distance.COSINE,\n",
    "    ),\n",
    ")\n",
    "\n",
    "qdrant_client.upload_records(\n",
    "    collection_name=\"vc_vectors\",\n",
    "    records=vc_records,\n",
    ")"
   ]
  },
  {
   "cell_type": "markdown",
   "id": "180b9f0c",
   "metadata": {},
   "source": [
    "### Поиск в qdrant"
   ]
  },
  {
   "cell_type": "code",
   "execution_count": 55,
   "id": "2ca6655c",
   "metadata": {},
   "outputs": [],
   "source": [
    "from sentence_transformers import SentenceTransformer, util"
   ]
  },
  {
   "cell_type": "code",
   "execution_count": 70,
   "id": "eaad3c82",
   "metadata": {},
   "outputs": [],
   "source": [
    "with open(\"emb/cv_list.dill\", \"rb\") as f:\n",
    "    cv_list = dill.load(f)"
   ]
  },
  {
   "cell_type": "code",
   "execution_count": 81,
   "id": "0b698484",
   "metadata": {},
   "outputs": [],
   "source": [
    "with open(\"emb/vacancy_list.dill\", \"rb\") as f:\n",
    "    vacancy_list = dill.load(f)"
   ]
  },
  {
   "cell_type": "code",
   "execution_count": 56,
   "id": "61709860",
   "metadata": {},
   "outputs": [],
   "source": [
    "qdrant_client = QdrantClient(\n",
    "    url=\"https://c457e10a-65e6-4023-95fb-5e84bcf5fc5f.us-east4-0.gcp.cloud.qdrant.io:6333\", \n",
    "    api_key=\"znIMw4rgEny3fri-SeMNk7QSuCcOQ3VLrX4_z6cEEklxgZPGhxyZgw\",\n",
    ")"
   ]
  },
  {
   "cell_type": "code",
   "execution_count": 57,
   "id": "4b233af6",
   "metadata": {},
   "outputs": [],
   "source": [
    "model_name = 'intfloat/multilingual-e5-large'\n",
    "\n",
    "model = SentenceTransformer(model_name)"
   ]
  },
  {
   "cell_type": "markdown",
   "id": "d35ff65d",
   "metadata": {},
   "source": [
    "#### Резюме по вакансии"
   ]
  },
  {
   "cell_type": "code",
   "execution_count": 78,
   "id": "b5b30af0",
   "metadata": {},
   "outputs": [
    {
     "name": "stdout",
     "output_type": "stream",
     "text": [
      "27030 {'title': 'управляющий'} score: 0.9184449\n",
      "управляющий\n",
      "Москва\n",
      "80000.0\n",
      "Более 6 лет\n",
      "Полная занятость, полный день\n",
      "Опыт работы 19 лет 5 месяцев  Январь 2000 — по настоящее время 19 лет 5 месяцев вооруженные силы Управляющий персоналом Опыт 6 лет работы в армии. Есть навыки пайки вплоть до замены контроллера питания на телефоне. Хорошо понимаю в Электронике и электрике. Дипломатичный подход к решению конфликтных ситуаций. Готов решать задачи управления Коллективом и искать подход к клиенту, компании, фирме, конкурентам. Решать нестандартные задачи. Доказать, что выход в любой из них всегда существует.\n",
      "\n",
      "4997 {'title': 'Менеджер'} score: 0.9159361\n",
      "Менеджер\n",
      "Москва\n",
      "100000.0\n",
      "От 3 до 6 лет\n",
      "Полная занятость, полный день\n",
      "Опыт работы 4 года 7 месяцев  Менеджер 100 000 руб. Информационные технологии, интернет, телеком Продажи Занятость: полная занятость График работы: полный день Опыт работы 4 года 7 месяцев Май 2018 — Август  2018 4 месяца ООО «НПЦ Трезор» Россия Ведущий и\n",
      "\n",
      "4585 {'title': 'Администратор'} score: 0.91531694\n",
      "Администратор\n",
      "Москва\n",
      "10000.0\n",
      "Более 6 лет\n",
      "Полная занятость, полный день\n",
      "Опыт работы 9 месяцев  Сентябрь 2018 — по настоящее время 9 месяцев кафе Roll's Администратор работа с клиентами, разрешение проблем с клиентами, работа с кассой\n",
      "\n",
      "131 {'title': 'Администратор сети'} score: 0.90962106\n",
      "Администратор сети\n",
      "Москва\n",
      "100000.0\n",
      "От 3 до 6 лет\n",
      "Полная занятость, полный день\n",
      "Опыт работы 5 лет 2 месяца  Апрель 2014 — по настоящее время 5 лет 2 месяца ООО ТОКИО МАРКЕТ Администратор магазина Управление персоналом, работа с excel, word, инкассация, контроль дисциплины, обучение персонала, инвентаризация, работа с Outlook\n",
      "\n",
      "6141 {'title': 'Администратор сети'} score: 0.90962106\n",
      "Администратор сети\n",
      "Москва\n",
      "100000.0\n",
      "От 3 до 6 лет\n",
      "Полная занятость, полный день\n",
      "Опыт работы 5 лет 2 месяца  Апрель 2014 — по настоящее время 5 лет 2 месяца ООО ТОКИО МАРКЕТ Администратор магазина Управление персоналом, работа с excel, word, инкассация, контроль дисциплины, обучение персонала, инвентаризация, работа с Outlook\n",
      "\n"
     ]
    }
   ],
   "source": [
    "query = \"\"\"\n",
    "Управляющий рестораном. \n",
    "Москва. 100000.0. \n",
    "От 3 до 6 лет. \n",
    "Полная занятость, полный день. \n",
    "Умение работать в условиях многозадачности. Ответственность. Целеустремленность.\n",
    "\"\"\"\n",
    "\n",
    "query_embedding = model.encode(query, convert_to_tensor=True).tolist()\n",
    "\n",
    "hits = qdrant_client.search(\n",
    "    collection_name=\"cv_vectors\",\n",
    "    query_vector=query_embedding,\n",
    "    limit=5,\n",
    ")\n",
    "\n",
    "for hit in hits:\n",
    "    print(hit.id, hit.payload, \"score:\", hit.score)\n",
    "    print(cv_list[hit.id])\n",
    "    print()"
   ]
  },
  {
   "cell_type": "markdown",
   "id": "482408ef",
   "metadata": {},
   "source": [
    "#### Вакансии по резюме"
   ]
  },
  {
   "cell_type": "code",
   "execution_count": null,
   "id": "de129db3",
   "metadata": {},
   "outputs": [],
   "source": [
    "nlp = spacy.load(\"ru_core_news_sm\")\n",
    "\n",
    "ban_words = ['руб', 'месяц', '/', 'июнь', 'июль', 'август', 'сентябрь', 'октябрь', 'декабрь', 'январь', 'февраль', 'март', 'апрель','опыт', 'работы', 'месяца', 'месяцев', 'год', 'года', 'лет','настоящее','время']\n",
    "\n",
    "stop_words = set(stopwords.words('russian') + ban_words)\n",
    "\n",
    "def extract_skills(text):\n",
    "    \"\"\"Функция очистки\"\"\"\n",
    "    doc = nlp(text)\n",
    "    skills = [token.text for token in doc if token.pos_ in {'NOUN', 'ADJ'} and token.text.lower() not in stop_words]\n",
    "    return ' '.join(skills)"
   ]
  },
  {
   "cell_type": "code",
   "execution_count": 82,
   "id": "178837a5",
   "metadata": {
    "scrolled": false
   },
   "outputs": [
    {
     "name": "stdout",
     "output_type": "stream",
     "text": [
      "22410 {'title': 'Системный администратор'} score: 0.92629385\n",
      "Системный администратор\n",
      "Санкт-Петербург\n",
      "60000.0\n",
      "От 3 до 6 лет\n",
      "Полная занятость, полный день\n",
      "Администрирование сетевого оборудования, Техническое обслуживание, Настройка ПО, Настройка ПК, Закупка оргтехники и оборудования, Сборка ПК, Ремонт ПК, Техническая поддержка, Администрирование серверов, Обеспечение антивирусной защиты, Офисная техника, Антивирусная защита сети, Организация рабочих мест\n",
      "\n",
      "31926 {'title': 'Системный администратор'} score: 0.92471063\n",
      "Системный администратор\n",
      "Ноябрьск\n",
      "60000.0\n",
      "От 3 до 6 лет\n",
      "Полная занятость, полный день\n",
      "Работа в команде, оформление документации, Работа в условиях многозадачности, Работа с компьютером, Коммуникабельность,  ответственность\n",
      "\n",
      "25306 {'title': 'Системный администратор'} score: 0.92409396\n",
      "Системный администратор\n",
      "Новосибирск\n",
      "40000.0\n",
      "От 1 года до 3 лет\n",
      "Полная занятость, полный день\n",
      "Организация рабочих мест, Сборка ПК, Образованность, Ответственный подход к работе, Настройка сетевых подключений, Настройка ПК, Настройка ПО, Администрирование сетевого оборудования\n",
      "\n"
     ]
    }
   ],
   "source": [
    "query = \"\"\"\n",
    "Системный администратор.\n",
    "Советск. 29000.0. Более 6 лет.\n",
    "Полная занятость, гибкий график, полный день.\n",
    "Консультирование клиентов компании. Поддержание в рабочем состоянии компьютерной техники и программного обеспечения информационного отдела Разработка и поддержка локального программного обеспечения отдела. Сборка компьютеров для новых сотрудников.\n",
    "\"\"\"\n",
    "\n",
    "#Отказывается работать, так как pydantic начал конфликтовать с qdrant. Из-за этого не могу импортировать spacy для очистки.\n",
    "#query = extract_skills(query)\n",
    "\n",
    "query_embedding = model.encode(query, convert_to_tensor=True).tolist()\n",
    "\n",
    "hits = qdrant_client.search(\n",
    "    collection_name=\"vc_vectors\",\n",
    "    query_vector=query_embedding,\n",
    "    limit=3,\n",
    ")\n",
    "\n",
    "for hit in hits:\n",
    "    print(hit.id, hit.payload, \"score:\", hit.score)\n",
    "    print(vacancy_list[hit.id])\n",
    "    print()"
   ]
  },
  {
   "cell_type": "code",
   "execution_count": null,
   "id": "9d8c51b0",
   "metadata": {},
   "outputs": [],
   "source": []
  }
 ],
 "metadata": {
  "kernelspec": {
   "display_name": "Python 3 (ipykernel)",
   "language": "python",
   "name": "python3"
  },
  "language_info": {
   "codemirror_mode": {
    "name": "ipython",
    "version": 3
   },
   "file_extension": ".py",
   "mimetype": "text/x-python",
   "name": "python",
   "nbconvert_exporter": "python",
   "pygments_lexer": "ipython3",
   "version": "3.10.13"
  }
 },
 "nbformat": 4,
 "nbformat_minor": 5
}
