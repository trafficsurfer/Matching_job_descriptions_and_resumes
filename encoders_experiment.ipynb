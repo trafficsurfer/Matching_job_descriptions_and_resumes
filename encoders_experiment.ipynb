{
  "cells": [
    {
      "cell_type": "markdown",
      "id": "6328f3c7",
      "metadata": {
        "id": "6328f3c7"
      },
      "source": [
        "# Эксперименты с энкодерами для сервиса матчинга описания вакансий и резюме"
      ]
    },
    {
      "cell_type": "markdown",
      "id": "e39ef69d",
      "metadata": {
        "id": "e39ef69d"
      },
      "source": [
        "## Описание проекта"
      ]
    },
    {
      "cell_type": "markdown",
      "id": "dea43c87",
      "metadata": {
        "id": "dea43c87"
      },
      "source": [
        "**Цель проекта:** разработка и реализация программного решения для сопоставления текстовых описаний вакансии и резюме.\n",
        "\n",
        "**Описание проекта:** разработка сервиса для платформы по поиску работы и сотрудников, позволяющего измерить релевантность резюме соискателя и вакансии. Задача приложения - выдавать численную оценку, насколько конкретный соискатель отвечает требованиям вакансии."
      ]
    },
    {
      "cell_type": "markdown",
      "id": "59e09d87",
      "metadata": {
        "id": "59e09d87"
      },
      "source": [
        "**Потенциальные варианты использования сервиса на платформе:** улучшение поиска вакансий соискателями, рекомендация вакансий, фильтрация нерелевантных кандидатов hr-специалистами, что в итоге повысит удовлетворенность всех пользователей продукта."
      ]
    },
    {
      "cell_type": "markdown",
      "id": "c9a07c5a",
      "metadata": {
        "id": "c9a07c5a"
      },
      "source": [
        "## Библиотеки и настроки"
      ]
    },
    {
      "cell_type": "code",
      "execution_count": 1,
      "id": "71PH0Cx-fjzP",
      "metadata": {
        "colab": {
          "base_uri": "https://localhost:8080/"
        },
        "id": "71PH0Cx-fjzP",
        "outputId": "82c26e58-482b-431b-f2e4-445931497827"
      },
      "outputs": [
        {
          "name": "stdout",
          "output_type": "stream",
          "text": [
            "Collecting sentence_transformers\n",
            "  Downloading sentence-transformers-2.2.2.tar.gz (85 kB)\n",
            "\u001b[2K     \u001b[90m━━━━━━━━━━━━━━━━━━━━━━━━━━━━━━━━━━━━━━━━\u001b[0m \u001b[32m86.0/86.0 kB\u001b[0m \u001b[31m2.6 MB/s\u001b[0m eta \u001b[36m0:00:00\u001b[0m\n",
            "\u001b[?25h  Preparing metadata (setup.py) ... \u001b[?25l\u001b[?25hdone\n",
            "Requirement already satisfied: transformers<5.0.0,>=4.6.0 in /usr/local/lib/python3.10/dist-packages (from sentence_transformers) (4.35.2)\n",
            "Requirement already satisfied: tqdm in /usr/local/lib/python3.10/dist-packages (from sentence_transformers) (4.66.1)\n",
            "Requirement already satisfied: torch>=1.6.0 in /usr/local/lib/python3.10/dist-packages (from sentence_transformers) (2.1.0+cu121)\n",
            "Requirement already satisfied: torchvision in /usr/local/lib/python3.10/dist-packages (from sentence_transformers) (0.16.0+cu121)\n",
            "Requirement already satisfied: numpy in /usr/local/lib/python3.10/dist-packages (from sentence_transformers) (1.23.5)\n",
            "Requirement already satisfied: scikit-learn in /usr/local/lib/python3.10/dist-packages (from sentence_transformers) (1.2.2)\n",
            "Requirement already satisfied: scipy in /usr/local/lib/python3.10/dist-packages (from sentence_transformers) (1.11.4)\n",
            "Requirement already satisfied: nltk in /usr/local/lib/python3.10/dist-packages (from sentence_transformers) (3.8.1)\n",
            "Collecting sentencepiece (from sentence_transformers)\n",
            "  Downloading sentencepiece-0.1.99-cp310-cp310-manylinux_2_17_x86_64.manylinux2014_x86_64.whl (1.3 MB)\n",
            "\u001b[2K     \u001b[90m━━━━━━━━━━━━━━━━━━━━━━━━━━━━━━━━━━━━━━━━\u001b[0m \u001b[32m1.3/1.3 MB\u001b[0m \u001b[31m12.6 MB/s\u001b[0m eta \u001b[36m0:00:00\u001b[0m\n",
            "\u001b[?25hRequirement already satisfied: huggingface-hub>=0.4.0 in /usr/local/lib/python3.10/dist-packages (from sentence_transformers) (0.19.4)\n",
            "Requirement already satisfied: filelock in /usr/local/lib/python3.10/dist-packages (from huggingface-hub>=0.4.0->sentence_transformers) (3.13.1)\n",
            "Requirement already satisfied: fsspec>=2023.5.0 in /usr/local/lib/python3.10/dist-packages (from huggingface-hub>=0.4.0->sentence_transformers) (2023.6.0)\n",
            "Requirement already satisfied: requests in /usr/local/lib/python3.10/dist-packages (from huggingface-hub>=0.4.0->sentence_transformers) (2.31.0)\n",
            "Requirement already satisfied: pyyaml>=5.1 in /usr/local/lib/python3.10/dist-packages (from huggingface-hub>=0.4.0->sentence_transformers) (6.0.1)\n",
            "Requirement already satisfied: typing-extensions>=3.7.4.3 in /usr/local/lib/python3.10/dist-packages (from huggingface-hub>=0.4.0->sentence_transformers) (4.5.0)\n",
            "Requirement already satisfied: packaging>=20.9 in /usr/local/lib/python3.10/dist-packages (from huggingface-hub>=0.4.0->sentence_transformers) (23.2)\n",
            "Requirement already satisfied: sympy in /usr/local/lib/python3.10/dist-packages (from torch>=1.6.0->sentence_transformers) (1.12)\n",
            "Requirement already satisfied: networkx in /usr/local/lib/python3.10/dist-packages (from torch>=1.6.0->sentence_transformers) (3.2.1)\n",
            "Requirement already satisfied: jinja2 in /usr/local/lib/python3.10/dist-packages (from torch>=1.6.0->sentence_transformers) (3.1.2)\n",
            "Requirement already satisfied: triton==2.1.0 in /usr/local/lib/python3.10/dist-packages (from torch>=1.6.0->sentence_transformers) (2.1.0)\n",
            "Requirement already satisfied: regex!=2019.12.17 in /usr/local/lib/python3.10/dist-packages (from transformers<5.0.0,>=4.6.0->sentence_transformers) (2023.6.3)\n",
            "Requirement already satisfied: tokenizers<0.19,>=0.14 in /usr/local/lib/python3.10/dist-packages (from transformers<5.0.0,>=4.6.0->sentence_transformers) (0.15.0)\n",
            "Requirement already satisfied: safetensors>=0.3.1 in /usr/local/lib/python3.10/dist-packages (from transformers<5.0.0,>=4.6.0->sentence_transformers) (0.4.1)\n",
            "Requirement already satisfied: click in /usr/local/lib/python3.10/dist-packages (from nltk->sentence_transformers) (8.1.7)\n",
            "Requirement already satisfied: joblib in /usr/local/lib/python3.10/dist-packages (from nltk->sentence_transformers) (1.3.2)\n",
            "Requirement already satisfied: threadpoolctl>=2.0.0 in /usr/local/lib/python3.10/dist-packages (from scikit-learn->sentence_transformers) (3.2.0)\n",
            "Requirement already satisfied: pillow!=8.3.*,>=5.3.0 in /usr/local/lib/python3.10/dist-packages (from torchvision->sentence_transformers) (9.4.0)\n",
            "Requirement already satisfied: MarkupSafe>=2.0 in /usr/local/lib/python3.10/dist-packages (from jinja2->torch>=1.6.0->sentence_transformers) (2.1.3)\n",
            "Requirement already satisfied: charset-normalizer<4,>=2 in /usr/local/lib/python3.10/dist-packages (from requests->huggingface-hub>=0.4.0->sentence_transformers) (3.3.2)\n",
            "Requirement already satisfied: idna<4,>=2.5 in /usr/local/lib/python3.10/dist-packages (from requests->huggingface-hub>=0.4.0->sentence_transformers) (3.6)\n",
            "Requirement already satisfied: urllib3<3,>=1.21.1 in /usr/local/lib/python3.10/dist-packages (from requests->huggingface-hub>=0.4.0->sentence_transformers) (2.0.7)\n",
            "Requirement already satisfied: certifi>=2017.4.17 in /usr/local/lib/python3.10/dist-packages (from requests->huggingface-hub>=0.4.0->sentence_transformers) (2023.11.17)\n",
            "Requirement already satisfied: mpmath>=0.19 in /usr/local/lib/python3.10/dist-packages (from sympy->torch>=1.6.0->sentence_transformers) (1.3.0)\n",
            "Building wheels for collected packages: sentence_transformers\n",
            "  Building wheel for sentence_transformers (setup.py) ... \u001b[?25l\u001b[?25hdone\n",
            "  Created wheel for sentence_transformers: filename=sentence_transformers-2.2.2-py3-none-any.whl size=125923 sha256=31791888a9ca052a1a87a1816956a93797172be7572f593c9418c2d6189896cd\n",
            "  Stored in directory: /root/.cache/pip/wheels/62/f2/10/1e606fd5f02395388f74e7462910fe851042f97238cbbd902f\n",
            "Successfully built sentence_transformers\n",
            "Installing collected packages: sentencepiece, sentence_transformers\n",
            "Successfully installed sentence_transformers-2.2.2 sentencepiece-0.1.99\n"
          ]
        }
      ],
      "source": [
        "!pip install sentence_transformers"
      ]
    },
    {
      "cell_type": "code",
      "execution_count": null,
      "id": "04dd8fa2",
      "metadata": {
        "id": "04dd8fa2"
      },
      "outputs": [],
      "source": [
        "import pandas as pd\n",
        "import numpy as np\n",
        "import matplotlib.pyplot as plt\n",
        "import seaborn as sns\n",
        "import math\n",
        "import random\n",
        "import torch\n",
        "\n",
        "from transformers.pipelines import pipeline\n",
        "from transformers import AutoTokenizer, AutoModel\n",
        "from sentence_transformers import SentenceTransformer, CrossEncoder, LoggingHandler, losses, InputExample, util\n"
      ]
    },
    {
      "cell_type": "code",
      "execution_count": 3,
      "id": "D47oN-1Xbwhm",
      "metadata": {
        "colab": {
          "base_uri": "https://localhost:8080/"
        },
        "id": "D47oN-1Xbwhm",
        "outputId": "a5633d73-2e8e-4ff7-f069-c3ab6ab1aac5"
      },
      "outputs": [
        {
          "name": "stdout",
          "output_type": "stream",
          "text": [
            "Mounted at /content/gdrive\n"
          ]
        }
      ],
      "source": [
        "from google.colab import drive\n",
        "drive.mount(\"/content/gdrive\")"
      ]
    },
    {
      "cell_type": "code",
      "execution_count": 4,
      "id": "Qn6ueluscGUW",
      "metadata": {
        "colab": {
          "base_uri": "https://localhost:8080/"
        },
        "id": "Qn6ueluscGUW",
        "outputId": "54d221d3-a15c-4ec3-f200-9f2e78778683"
      },
      "outputs": [
        {
          "name": "stdout",
          "output_type": "stream",
          "text": [
            "Using device: cuda\n"
          ]
        }
      ],
      "source": [
        "device = 'cuda' if torch.cuda.is_available() else 'cpu'\n",
        "print(f'Using device: {device}')"
      ]
    },
    {
      "cell_type": "code",
      "execution_count": 5,
      "id": "b4699f3d",
      "metadata": {
        "id": "b4699f3d"
      },
      "outputs": [],
      "source": [
        "SEED = 42\n",
        "random.seed(SEED)\n",
        "np.random.seed(SEED)"
      ]
    },
    {
      "cell_type": "code",
      "execution_count": 6,
      "id": "04897647",
      "metadata": {
        "id": "04897647"
      },
      "outputs": [],
      "source": [
        "# сброс ограничений на количество выводимых рядов\n",
        "pd.set_option('display.max_rows', None)\n",
        "\n",
        "# сброс ограничений на число столбцов\n",
        "pd.set_option('display.max_columns', None)\n",
        "\n",
        "# сброс ограничений на количество символов в записи\n",
        "pd.set_option('display.max_colwidth', None)"
      ]
    },
    {
      "cell_type": "markdown",
      "id": "bbed7710",
      "metadata": {
        "id": "bbed7710"
      },
      "source": [
        "## Датасеты"
      ]
    },
    {
      "cell_type": "markdown",
      "id": "d658eb9d",
      "metadata": {
        "id": "d658eb9d"
      },
      "source": [
        "### Датасет резюме HeadHunter"
      ]
    },
    {
      "cell_type": "code",
      "execution_count": 7,
      "id": "3a8c205e",
      "metadata": {
        "id": "3a8c205e"
      },
      "outputs": [],
      "source": [
        "df_CV = pd.read_csv('/content/gdrive/MyDrive/datasets/df_CV.csv', on_bad_lines='skip', encoding='utf-8', sep=',')"
      ]
    },
    {
      "cell_type": "code",
      "execution_count": 8,
      "id": "Q3JKvJDMnpTE",
      "metadata": {
        "id": "Q3JKvJDMnpTE"
      },
      "outputs": [],
      "source": [
        "df_CV.drop(['Пол, возраст', 'Последнее/нынешнее место работы', 'Последняя/нынешняя должность', 'Обновление резюме', 'Авто', 'Образование и ВУЗ'], axis=1, inplace=True)"
      ]
    },
    {
      "cell_type": "code",
      "execution_count": 9,
      "id": "Z6aup9l3knG8",
      "metadata": {
        "id": "Z6aup9l3knG8"
      },
      "outputs": [],
      "source": [
        "df_CV = df_CV[['Ищет работу на должность:', 'ЗП', 'Опыт работы', 'Занятость', 'График', 'Город, переезд, командировки']]"
      ]
    },
    {
      "cell_type": "code",
      "execution_count": 10,
      "id": "bf1e093a",
      "metadata": {
        "colab": {
          "base_uri": "https://localhost:8080/",
          "height": 150
        },
        "id": "bf1e093a",
        "outputId": "f533a119-cdee-4e0a-d83c-100a27a400dc"
      },
      "outputs": [
        {
          "data": {
            "text/html": [
              "\n",
              "  <div id=\"df-dff52428-b2ac-4954-90e5-3b276ad9b81c\" class=\"colab-df-container\">\n",
              "    <div>\n",
              "<style scoped>\n",
              "    .dataframe tbody tr th:only-of-type {\n",
              "        vertical-align: middle;\n",
              "    }\n",
              "\n",
              "    .dataframe tbody tr th {\n",
              "        vertical-align: top;\n",
              "    }\n",
              "\n",
              "    .dataframe thead th {\n",
              "        text-align: right;\n",
              "    }\n",
              "</style>\n",
              "<table border=\"1\" class=\"dataframe\">\n",
              "  <thead>\n",
              "    <tr style=\"text-align: right;\">\n",
              "      <th></th>\n",
              "      <th>Ищет работу на должность:</th>\n",
              "      <th>ЗП</th>\n",
              "      <th>Опыт работы</th>\n",
              "      <th>Занятость</th>\n",
              "      <th>График</th>\n",
              "      <th>Город, переезд, командировки</th>\n",
              "    </tr>\n",
              "  </thead>\n",
              "  <tbody>\n",
              "    <tr>\n",
              "      <th>0</th>\n",
              "      <td>Системный администратор</td>\n",
              "      <td>29000 руб.</td>\n",
              "      <td>Опыт работы 16 лет 10 месяцев  Август 2010 — по настоящее время 8 лет 10 месяцев МАОУ \"СОШ № 1 г.Немана\" Системный администратор Обслуживание ПК,установка ПО, ремонт, периферийной техники, Интернет локальная сеть. Ведение Электронного журнала, сайта организации.  Август 2002 — Август  2010 8 лет 1 месяц ТС \"ВЕСТЕР-ИНФО\" Старший продавец, директор отдела Продажи компьютерной техники</td>\n",
              "      <td>частичная занятость, проектная работа, полная занятость</td>\n",
              "      <td>гибкий график, полный день, сменный график, вахтовый метод, удаленная работа</td>\n",
              "      <td>Советск (Калининградская область) , не готов к переезду , не готов к командировкам</td>\n",
              "    </tr>\n",
              "  </tbody>\n",
              "</table>\n",
              "</div>\n",
              "    <div class=\"colab-df-buttons\">\n",
              "\n",
              "  <div class=\"colab-df-container\">\n",
              "    <button class=\"colab-df-convert\" onclick=\"convertToInteractive('df-dff52428-b2ac-4954-90e5-3b276ad9b81c')\"\n",
              "            title=\"Convert this dataframe to an interactive table.\"\n",
              "            style=\"display:none;\">\n",
              "\n",
              "  <svg xmlns=\"http://www.w3.org/2000/svg\" height=\"24px\" viewBox=\"0 -960 960 960\">\n",
              "    <path d=\"M120-120v-720h720v720H120Zm60-500h600v-160H180v160Zm220 220h160v-160H400v160Zm0 220h160v-160H400v160ZM180-400h160v-160H180v160Zm440 0h160v-160H620v160ZM180-180h160v-160H180v160Zm440 0h160v-160H620v160Z\"/>\n",
              "  </svg>\n",
              "    </button>\n",
              "\n",
              "  <style>\n",
              "    .colab-df-container {\n",
              "      display:flex;\n",
              "      gap: 12px;\n",
              "    }\n",
              "\n",
              "    .colab-df-convert {\n",
              "      background-color: #E8F0FE;\n",
              "      border: none;\n",
              "      border-radius: 50%;\n",
              "      cursor: pointer;\n",
              "      display: none;\n",
              "      fill: #1967D2;\n",
              "      height: 32px;\n",
              "      padding: 0 0 0 0;\n",
              "      width: 32px;\n",
              "    }\n",
              "\n",
              "    .colab-df-convert:hover {\n",
              "      background-color: #E2EBFA;\n",
              "      box-shadow: 0px 1px 2px rgba(60, 64, 67, 0.3), 0px 1px 3px 1px rgba(60, 64, 67, 0.15);\n",
              "      fill: #174EA6;\n",
              "    }\n",
              "\n",
              "    .colab-df-buttons div {\n",
              "      margin-bottom: 4px;\n",
              "    }\n",
              "\n",
              "    [theme=dark] .colab-df-convert {\n",
              "      background-color: #3B4455;\n",
              "      fill: #D2E3FC;\n",
              "    }\n",
              "\n",
              "    [theme=dark] .colab-df-convert:hover {\n",
              "      background-color: #434B5C;\n",
              "      box-shadow: 0px 1px 3px 1px rgba(0, 0, 0, 0.15);\n",
              "      filter: drop-shadow(0px 1px 2px rgba(0, 0, 0, 0.3));\n",
              "      fill: #FFFFFF;\n",
              "    }\n",
              "  </style>\n",
              "\n",
              "    <script>\n",
              "      const buttonEl =\n",
              "        document.querySelector('#df-dff52428-b2ac-4954-90e5-3b276ad9b81c button.colab-df-convert');\n",
              "      buttonEl.style.display =\n",
              "        google.colab.kernel.accessAllowed ? 'block' : 'none';\n",
              "\n",
              "      async function convertToInteractive(key) {\n",
              "        const element = document.querySelector('#df-dff52428-b2ac-4954-90e5-3b276ad9b81c');\n",
              "        const dataTable =\n",
              "          await google.colab.kernel.invokeFunction('convertToInteractive',\n",
              "                                                    [key], {});\n",
              "        if (!dataTable) return;\n",
              "\n",
              "        const docLinkHtml = 'Like what you see? Visit the ' +\n",
              "          '<a target=\"_blank\" href=https://colab.research.google.com/notebooks/data_table.ipynb>data table notebook</a>'\n",
              "          + ' to learn more about interactive tables.';\n",
              "        element.innerHTML = '';\n",
              "        dataTable['output_type'] = 'display_data';\n",
              "        await google.colab.output.renderOutput(dataTable, element);\n",
              "        const docLink = document.createElement('div');\n",
              "        docLink.innerHTML = docLinkHtml;\n",
              "        element.appendChild(docLink);\n",
              "      }\n",
              "    </script>\n",
              "  </div>\n",
              "\n",
              "\n",
              "    </div>\n",
              "  </div>\n"
            ],
            "text/plain": [
              "  Ищет работу на должность:          ЗП  \\\n",
              "0   Системный администратор  29000 руб.   \n",
              "\n",
              "                                                                                                                                                                                                                                                                                                                                                                                        Опыт работы  \\\n",
              "0  Опыт работы 16 лет 10 месяцев  Август 2010 — по настоящее время 8 лет 10 месяцев МАОУ \"СОШ № 1 г.Немана\" Системный администратор Обслуживание ПК,установка ПО, ремонт, периферийной техники, Интернет локальная сеть. Ведение Электронного журнала, сайта организации.  Август 2002 — Август  2010 8 лет 1 месяц ТС \"ВЕСТЕР-ИНФО\" Старший продавец, директор отдела Продажи компьютерной техники   \n",
              "\n",
              "                                                 Занятость  \\\n",
              "0  частичная занятость, проектная работа, полная занятость   \n",
              "\n",
              "                                                                         График  \\\n",
              "0  гибкий график, полный день, сменный график, вахтовый метод, удаленная работа   \n",
              "\n",
              "                                                         Город, переезд, командировки  \n",
              "0  Советск (Калининградская область) , не готов к переезду , не готов к командировкам  "
            ]
          },
          "execution_count": 10,
          "metadata": {},
          "output_type": "execute_result"
        }
      ],
      "source": [
        "df_CV.head(1)"
      ]
    },
    {
      "cell_type": "code",
      "execution_count": 11,
      "id": "1534249e",
      "metadata": {
        "colab": {
          "base_uri": "https://localhost:8080/"
        },
        "id": "1534249e",
        "outputId": "2d992e9b-dee2-4493-cdef-86c61b9e7493"
      },
      "outputs": [
        {
          "name": "stdout",
          "output_type": "stream",
          "text": [
            "<class 'pandas.core.frame.DataFrame'>\n",
            "RangeIndex: 44574 entries, 0 to 44573\n",
            "Data columns (total 6 columns):\n",
            " #   Column                        Non-Null Count  Dtype \n",
            "---  ------                        --------------  ----- \n",
            " 0   Ищет работу на должность:     44574 non-null  object\n",
            " 1   ЗП                            44574 non-null  object\n",
            " 2   Опыт работы                   44574 non-null  object\n",
            " 3   Занятость                     44574 non-null  object\n",
            " 4   График                        44574 non-null  object\n",
            " 5   Город, переезд, командировки  44574 non-null  object\n",
            "dtypes: object(6)\n",
            "memory usage: 2.0+ MB\n"
          ]
        }
      ],
      "source": [
        "df_CV.info()"
      ]
    },
    {
      "cell_type": "markdown",
      "id": "986599ac",
      "metadata": {
        "id": "986599ac"
      },
      "source": [
        "### Датасет вакансий HeadHunter"
      ]
    },
    {
      "cell_type": "code",
      "execution_count": 12,
      "id": "457630db",
      "metadata": {
        "id": "457630db"
      },
      "outputs": [],
      "source": [
        "df_vacancies = pd.read_csv('/content/gdrive/MyDrive/datasets/df_vacancies.csv', on_bad_lines='skip', encoding='utf-8', sep=',')"
      ]
    },
    {
      "cell_type": "code",
      "execution_count": 13,
      "id": "W8jLbCZVmHgL",
      "metadata": {
        "id": "W8jLbCZVmHgL"
      },
      "outputs": [],
      "source": [
        "df_vacancies = df_vacancies[df_vacancies['type'] == 'close']"
      ]
    },
    {
      "cell_type": "code",
      "execution_count": 14,
      "id": "NdIuKQocl1Jl",
      "metadata": {
        "id": "NdIuKQocl1Jl"
      },
      "outputs": [],
      "source": [
        "df_vacancies.drop(['№', 'id', 'company', 'date_of_post', 'type', 'description'], axis=1, inplace=True)"
      ]
    },
    {
      "cell_type": "code",
      "execution_count": 15,
      "id": "a7a4e425",
      "metadata": {
        "colab": {
          "base_uri": "https://localhost:8080/",
          "height": 81
        },
        "id": "a7a4e425",
        "outputId": "a9227029-8a13-4521-bc0c-decf5cbf3516",
        "scrolled": false
      },
      "outputs": [
        {
          "data": {
            "text/html": [
              "\n",
              "  <div id=\"df-813aa715-1f05-44e5-822e-f3534c4aa622\" class=\"colab-df-container\">\n",
              "    <div>\n",
              "<style scoped>\n",
              "    .dataframe tbody tr th:only-of-type {\n",
              "        vertical-align: middle;\n",
              "    }\n",
              "\n",
              "    .dataframe tbody tr th {\n",
              "        vertical-align: top;\n",
              "    }\n",
              "\n",
              "    .dataframe thead th {\n",
              "        text-align: right;\n",
              "    }\n",
              "</style>\n",
              "<table border=\"1\" class=\"dataframe\">\n",
              "  <thead>\n",
              "    <tr style=\"text-align: right;\">\n",
              "      <th></th>\n",
              "      <th>title</th>\n",
              "      <th>salary</th>\n",
              "      <th>experience</th>\n",
              "      <th>job_type</th>\n",
              "      <th>key_skills</th>\n",
              "      <th>location</th>\n",
              "    </tr>\n",
              "  </thead>\n",
              "  <tbody>\n",
              "    <tr>\n",
              "      <th>0</th>\n",
              "      <td>Начальник участка</td>\n",
              "      <td>от 130000 RUR</td>\n",
              "      <td>От 1 года до 3 лет</td>\n",
              "      <td>Полная занятость,полный день</td>\n",
              "      <td>AutoCAD,MS Excel,MS Word,Управление производственным персоналом,Составление графиков</td>\n",
              "      <td>Москва, улица Ивана Бабушкина, 4</td>\n",
              "    </tr>\n",
              "  </tbody>\n",
              "</table>\n",
              "</div>\n",
              "    <div class=\"colab-df-buttons\">\n",
              "\n",
              "  <div class=\"colab-df-container\">\n",
              "    <button class=\"colab-df-convert\" onclick=\"convertToInteractive('df-813aa715-1f05-44e5-822e-f3534c4aa622')\"\n",
              "            title=\"Convert this dataframe to an interactive table.\"\n",
              "            style=\"display:none;\">\n",
              "\n",
              "  <svg xmlns=\"http://www.w3.org/2000/svg\" height=\"24px\" viewBox=\"0 -960 960 960\">\n",
              "    <path d=\"M120-120v-720h720v720H120Zm60-500h600v-160H180v160Zm220 220h160v-160H400v160Zm0 220h160v-160H400v160ZM180-400h160v-160H180v160Zm440 0h160v-160H620v160ZM180-180h160v-160H180v160Zm440 0h160v-160H620v160Z\"/>\n",
              "  </svg>\n",
              "    </button>\n",
              "\n",
              "  <style>\n",
              "    .colab-df-container {\n",
              "      display:flex;\n",
              "      gap: 12px;\n",
              "    }\n",
              "\n",
              "    .colab-df-convert {\n",
              "      background-color: #E8F0FE;\n",
              "      border: none;\n",
              "      border-radius: 50%;\n",
              "      cursor: pointer;\n",
              "      display: none;\n",
              "      fill: #1967D2;\n",
              "      height: 32px;\n",
              "      padding: 0 0 0 0;\n",
              "      width: 32px;\n",
              "    }\n",
              "\n",
              "    .colab-df-convert:hover {\n",
              "      background-color: #E2EBFA;\n",
              "      box-shadow: 0px 1px 2px rgba(60, 64, 67, 0.3), 0px 1px 3px 1px rgba(60, 64, 67, 0.15);\n",
              "      fill: #174EA6;\n",
              "    }\n",
              "\n",
              "    .colab-df-buttons div {\n",
              "      margin-bottom: 4px;\n",
              "    }\n",
              "\n",
              "    [theme=dark] .colab-df-convert {\n",
              "      background-color: #3B4455;\n",
              "      fill: #D2E3FC;\n",
              "    }\n",
              "\n",
              "    [theme=dark] .colab-df-convert:hover {\n",
              "      background-color: #434B5C;\n",
              "      box-shadow: 0px 1px 3px 1px rgba(0, 0, 0, 0.15);\n",
              "      filter: drop-shadow(0px 1px 2px rgba(0, 0, 0, 0.3));\n",
              "      fill: #FFFFFF;\n",
              "    }\n",
              "  </style>\n",
              "\n",
              "    <script>\n",
              "      const buttonEl =\n",
              "        document.querySelector('#df-813aa715-1f05-44e5-822e-f3534c4aa622 button.colab-df-convert');\n",
              "      buttonEl.style.display =\n",
              "        google.colab.kernel.accessAllowed ? 'block' : 'none';\n",
              "\n",
              "      async function convertToInteractive(key) {\n",
              "        const element = document.querySelector('#df-813aa715-1f05-44e5-822e-f3534c4aa622');\n",
              "        const dataTable =\n",
              "          await google.colab.kernel.invokeFunction('convertToInteractive',\n",
              "                                                    [key], {});\n",
              "        if (!dataTable) return;\n",
              "\n",
              "        const docLinkHtml = 'Like what you see? Visit the ' +\n",
              "          '<a target=\"_blank\" href=https://colab.research.google.com/notebooks/data_table.ipynb>data table notebook</a>'\n",
              "          + ' to learn more about interactive tables.';\n",
              "        element.innerHTML = '';\n",
              "        dataTable['output_type'] = 'display_data';\n",
              "        await google.colab.output.renderOutput(dataTable, element);\n",
              "        const docLink = document.createElement('div');\n",
              "        docLink.innerHTML = docLinkHtml;\n",
              "        element.appendChild(docLink);\n",
              "      }\n",
              "    </script>\n",
              "  </div>\n",
              "\n",
              "\n",
              "    </div>\n",
              "  </div>\n"
            ],
            "text/plain": [
              "               title         salary          experience  \\\n",
              "0  Начальник участка  от 130000 RUR  От 1 года до 3 лет   \n",
              "\n",
              "                       job_type  \\\n",
              "0  Полная занятость,полный день   \n",
              "\n",
              "                                                                             key_skills  \\\n",
              "0  AutoCAD,MS Excel,MS Word,Управление производственным персоналом,Составление графиков   \n",
              "\n",
              "                           location  \n",
              "0  Москва, улица Ивана Бабушкина, 4  "
            ]
          },
          "execution_count": 15,
          "metadata": {},
          "output_type": "execute_result"
        }
      ],
      "source": [
        "df_vacancies.head(1)"
      ]
    },
    {
      "cell_type": "code",
      "execution_count": 16,
      "id": "2b1fd5f5",
      "metadata": {
        "colab": {
          "base_uri": "https://localhost:8080/"
        },
        "id": "2b1fd5f5",
        "outputId": "69d74825-d2d3-48ca-9b3f-19ff5b5df466"
      },
      "outputs": [
        {
          "name": "stdout",
          "output_type": "stream",
          "text": [
            "<class 'pandas.core.frame.DataFrame'>\n",
            "Int64Index: 109929 entries, 0 to 109928\n",
            "Data columns (total 6 columns):\n",
            " #   Column      Non-Null Count   Dtype \n",
            "---  ------      --------------   ----- \n",
            " 0   title       109929 non-null  object\n",
            " 1   salary      109929 non-null  object\n",
            " 2   experience  109929 non-null  object\n",
            " 3   job_type    109929 non-null  object\n",
            " 4   key_skills  109929 non-null  object\n",
            " 5   location    109929 non-null  object\n",
            "dtypes: object(6)\n",
            "memory usage: 5.9+ MB\n"
          ]
        }
      ],
      "source": [
        "df_vacancies.info()"
      ]
    },
    {
      "cell_type": "markdown",
      "id": "d9bc6f77",
      "metadata": {
        "id": "d9bc6f77"
      },
      "source": [
        "## Эксперименты с энкодерами для задачи Semantic search"
      ]
    },
    {
      "cell_type": "markdown",
      "id": "90llwJifkevT",
      "metadata": {
        "id": "90llwJifkevT"
      },
      "source": [
        "### multilingual-e5-large"
      ]
    },
    {
      "cell_type": "code",
      "execution_count": 85,
      "id": "I3b6JRR5kGco",
      "metadata": {
        "id": "I3b6JRR5kGco"
      },
      "outputs": [],
      "source": [
        "model_name = 'intfloat/multilingual-e5-large'"
      ]
    },
    {
      "cell_type": "code",
      "execution_count": 86,
      "id": "02r3-PQNkGfQ",
      "metadata": {
        "id": "02r3-PQNkGfQ"
      },
      "outputs": [],
      "source": [
        "retrieval_model = SentenceTransformer(model_name)"
      ]
    },
    {
      "cell_type": "markdown",
      "id": "dtCzN8NrklqI",
      "metadata": {
        "id": "dtCzN8NrklqI"
      },
      "source": [
        "Сформируем эмбеддинги из датасета вакансий на части выборки для тестирования качества модели:"
      ]
    },
    {
      "cell_type": "code",
      "execution_count": 19,
      "id": "RQjDLKhakzRh",
      "metadata": {
        "id": "RQjDLKhakzRh"
      },
      "outputs": [],
      "source": [
        "df_vacancies_concat = df_vacancies.apply(lambda row: '. '.join(row.astype(str)), axis=1)"
      ]
    },
    {
      "cell_type": "code",
      "execution_count": 20,
      "id": "sPcHG7hdkGh1",
      "metadata": {
        "id": "sPcHG7hdkGh1"
      },
      "outputs": [],
      "source": [
        "vacancies_embedding_e5 = retrieval_model.encode(df_vacancies_concat, convert_to_tensor=True)"
      ]
    },
    {
      "cell_type": "markdown",
      "id": "9d2e8ebd",
      "metadata": {
        "id": "9d2e8ebd"
      },
      "source": [
        "Сформируем из резюме запрос и определим функцию для семантического поиска подходящих вакансий по базе :"
      ]
    },
    {
      "cell_type": "code",
      "execution_count": 76,
      "id": "OHB6WWqpkeWI",
      "metadata": {
        "id": "OHB6WWqpkeWI"
      },
      "outputs": [],
      "source": [
        "query = df_CV.iloc[[0]].apply(lambda row: '. '.join(row.astype(str)), axis=1).values[0]"
      ]
    },
    {
      "cell_type": "code",
      "execution_count": 22,
      "id": "mm6dnaKdtdnO",
      "metadata": {
        "colab": {
          "base_uri": "https://localhost:8080/",
          "height": 70
        },
        "id": "mm6dnaKdtdnO",
        "outputId": "5705eb26-6fe4-4c85-e248-c729e3ab309c"
      },
      "outputs": [
        {
          "data": {
            "application/vnd.google.colaboratory.intrinsic+json": {
              "type": "string"
            },
            "text/plain": [
              "'Системный администратор. 29000 руб.. Опыт работы 16 лет 10 месяцев  Август 2010 — по настоящее время 8 лет 10 месяцев МАОУ \"СОШ № 1 г.Немана\" Системный администратор Обслуживание ПК,установка ПО, ремонт, периферийной техники, Интернет локальная сеть. Ведение Электронного журнала, сайта организации.  Август 2002 — Август  2010 8 лет 1 месяц ТС \"ВЕСТЕР-ИНФО\" Старший продавец, директор отдела Продажи компьютерной техники. частичная занятость, проектная работа, полная занятость. гибкий график, полный день, сменный график, вахтовый метод, удаленная работа. Советск (Калининградская область) , не готов к переезду , не готов к командировкам'"
            ]
          },
          "execution_count": 22,
          "metadata": {},
          "output_type": "execute_result"
        }
      ],
      "source": [
        "query"
      ]
    },
    {
      "cell_type": "code",
      "execution_count": 78,
      "id": "abba2204",
      "metadata": {
        "id": "abba2204"
      },
      "outputs": [],
      "source": [
        "def sem_search_results(model, query, corpus, corpus_embedding, top_k):\n",
        "  ##### Sematic Search (Retrieve) #####\n",
        "  question_embedding = model.encode(query, convert_to_tensor=True)\n",
        "  hits = util.semantic_search(question_embedding, corpus_embedding, top_k=top_k)\n",
        "  hits = hits[0]  # Get the hits\n",
        "\n",
        "  # score all retrieved passages\n",
        "  sem_search_res = [[query, corpus[hit['corpus_id']]] for hit in hits]\n",
        "  sem_search_emb = [question_embedding[0]] + [corpus_embedding[hit['corpus_id']] for hit in hits]\n",
        "\n",
        "  return sem_search_res, sem_search_emb, hits"
      ]
    },
    {
      "cell_type": "markdown",
      "id": "faa0844f",
      "metadata": {
        "id": "faa0844f"
      },
      "source": [
        "Получим топ подходящих вакансий:"
      ]
    },
    {
      "cell_type": "code",
      "execution_count": 87,
      "id": "631da1de",
      "metadata": {
        "id": "631da1de"
      },
      "outputs": [],
      "source": [
        "sem_search_res, sem_search_emb, hits_retrieved = sem_search_results(retrieval_model, query, df_vacancies_concat, vacancies_embedding_e5, 5)"
      ]
    },
    {
      "cell_type": "code",
      "execution_count": 25,
      "id": "6fuA_XRsLDQg",
      "metadata": {
        "colab": {
          "base_uri": "https://localhost:8080/"
        },
        "id": "6fuA_XRsLDQg",
        "outputId": "ef049d7a-a995-4f1c-e5a8-b28b4a95507a"
      },
      "outputs": [
        {
          "data": {
            "text/plain": [
              "[['Системный администратор. 29000 руб.. Опыт работы 16 лет 10 месяцев  Август 2010 — по настоящее время 8 лет 10 месяцев МАОУ \"СОШ № 1 г.Немана\" Системный администратор Обслуживание ПК,установка ПО, ремонт, периферийной техники, Интернет локальная сеть. Ведение Электронного журнала, сайта организации.  Август 2002 — Август  2010 8 лет 1 месяц ТС \"ВЕСТЕР-ИНФО\" Старший продавец, директор отдела Продажи компьютерной техники. частичная занятость, проектная работа, полная занятость. гибкий график, полный день, сменный график, вахтовый метод, удаленная работа. Советск (Калининградская область) , не готов к переезду , не готов к командировкам',\n",
              "  'Системный администратор. от 90000 до 140000 RUR. Более 6 лет. Полная занятость,полный день. Администрирование сетевого оборудования,Настройка сетевых подключений,Информационные технологии,Linux,Networking,Маршрутизация статическая,Маршрутизация динамическая,Телекоммуникации,Сетевые технологии,Высокий уровень самоорганизации,Умею начинать дела и доводить их до успешного завершения.,Способность самостоятельно принимать решения. Калининград, Клиническая улица, 83а'],\n",
              " ['Системный администратор. 29000 руб.. Опыт работы 16 лет 10 месяцев  Август 2010 — по настоящее время 8 лет 10 месяцев МАОУ \"СОШ № 1 г.Немана\" Системный администратор Обслуживание ПК,установка ПО, ремонт, периферийной техники, Интернет локальная сеть. Ведение Электронного журнала, сайта организации.  Август 2002 — Август  2010 8 лет 1 месяц ТС \"ВЕСТЕР-ИНФО\" Старший продавец, директор отдела Продажи компьютерной техники. частичная занятость, проектная работа, полная занятость. гибкий график, полный день, сменный график, вахтовый метод, удаленная работа. Советск (Калининградская область) , не готов к переезду , не готов к командировкам',\n",
              "  'Системный администратор. от 90000 RUR. От 1 года до 3 лет. Полная занятость,полный день. Мониторинг,Телефония,Установка ПО,Hardware,Сетевое оборудование,Работа с оргтехникой,Терпеливость,Стремление развиваться,Высшее образование,Опрятный внешний вид,Образованность,Умение работать с документами,Грамотная речь,Принимать решения. Петропавловск-Камчатский, улица Пономарёва, 33А'],\n",
              " ['Системный администратор. 29000 руб.. Опыт работы 16 лет 10 месяцев  Август 2010 — по настоящее время 8 лет 10 месяцев МАОУ \"СОШ № 1 г.Немана\" Системный администратор Обслуживание ПК,установка ПО, ремонт, периферийной техники, Интернет локальная сеть. Ведение Электронного журнала, сайта организации.  Август 2002 — Август  2010 8 лет 1 месяц ТС \"ВЕСТЕР-ИНФО\" Старший продавец, директор отдела Продажи компьютерной техники. частичная занятость, проектная работа, полная занятость. гибкий график, полный день, сменный график, вахтовый метод, удаленная работа. Советск (Калининградская область) , не готов к переезду , не готов к командировкам',\n",
              "  'Системный администратор. от 40000 RUR. От 3 до 6 лет. Полная занятость,полный день. Настройка сетевого оборудования,Установка ПО,Продвинутый пользователь ПК,Ремонт ПК,Настройка ПК,Настройка ПО,Техническое обслуживание,Настройка сетевых подключений,Офисная техника,Работа с оргтехникой,Электронная почта,Закупка оргтехники и оборудования,Высокая ответственность,Умение работать в условиях многозадачности,Коммуникабельность, ответственность,Ответственный подход к работе. Нефтекамск, Автозаводская улица, 1Б/3'],\n",
              " ['Системный администратор. 29000 руб.. Опыт работы 16 лет 10 месяцев  Август 2010 — по настоящее время 8 лет 10 месяцев МАОУ \"СОШ № 1 г.Немана\" Системный администратор Обслуживание ПК,установка ПО, ремонт, периферийной техники, Интернет локальная сеть. Ведение Электронного журнала, сайта организации.  Август 2002 — Август  2010 8 лет 1 месяц ТС \"ВЕСТЕР-ИНФО\" Старший продавец, директор отдела Продажи компьютерной техники. частичная занятость, проектная работа, полная занятость. гибкий график, полный день, сменный график, вахтовый метод, удаленная работа. Советск (Калининградская область) , не готов к переезду , не готов к командировкам',\n",
              "  'Системный администратор. з/п не указана. От 1 года до 3 лет. Полная занятость,полный день. VMware,Администрирование серверов,MS Exchange,Администрирование серверов Windows,Администрирование серверов Linux,Ms Exchange Server,VPN,Mac Os,Настройка сетевых подключений,1С: Документооборот,Резервное копирование,Virtualization,Wifi networks,Техническая поддержка,Локальные сети. Калининград, Театральная улица, 30'],\n",
              " ['Системный администратор. 29000 руб.. Опыт работы 16 лет 10 месяцев  Август 2010 — по настоящее время 8 лет 10 месяцев МАОУ \"СОШ № 1 г.Немана\" Системный администратор Обслуживание ПК,установка ПО, ремонт, периферийной техники, Интернет локальная сеть. Ведение Электронного журнала, сайта организации.  Август 2002 — Август  2010 8 лет 1 месяц ТС \"ВЕСТЕР-ИНФО\" Старший продавец, директор отдела Продажи компьютерной техники. частичная занятость, проектная работа, полная занятость. гибкий график, полный день, сменный график, вахтовый метод, удаленная работа. Советск (Калининградская область) , не готов к переезду , не готов к командировкам',\n",
              "  'Системный администратор. з/п не указана. От 1 года до 3 лет. Полная занятость,полный день. Техническая поддержка пользователей,Техническое обслуживание,Настройка ПК. Тамбов, Советская улица, 191']]"
            ]
          },
          "execution_count": 25,
          "metadata": {},
          "output_type": "execute_result"
        }
      ],
      "source": [
        "sem_search_res[:5]"
      ]
    },
    {
      "cell_type": "markdown",
      "id": "XpQv1Xj4lG8S",
      "metadata": {
        "id": "XpQv1Xj4lG8S"
      },
      "source": [
        "### rubert-tiny2"
      ]
    },
    {
      "cell_type": "code",
      "execution_count": 93,
      "id": "bd4ea3fe",
      "metadata": {
        "id": "bd4ea3fe"
      },
      "outputs": [],
      "source": [
        "model_name = 'cointegrated/rubert-tiny2'"
      ]
    },
    {
      "cell_type": "code",
      "execution_count": 95,
      "id": "hbte2goB4sWx",
      "metadata": {
        "id": "hbte2goB4sWx"
      },
      "outputs": [],
      "source": [
        "retrieval_model = SentenceTransformer(model_name)"
      ]
    },
    {
      "cell_type": "code",
      "execution_count": 28,
      "id": "Re82nzAOpGsf",
      "metadata": {
        "id": "Re82nzAOpGsf"
      },
      "outputs": [],
      "source": [
        "vacancies_embedding_rubert_tiny2 = retrieval_model.encode(df_vacancies_concat, convert_to_tensor=True)"
      ]
    },
    {
      "cell_type": "code",
      "execution_count": 96,
      "id": "VicneK00pGvj",
      "metadata": {
        "id": "VicneK00pGvj"
      },
      "outputs": [],
      "source": [
        "sem_search_res, sem_search_emb, hits_retrieved = sem_search_results(retrieval_model, query, df_vacancies_concat, vacancies_embedding_rubert_tiny2, 5)"
      ]
    },
    {
      "cell_type": "code",
      "execution_count": 97,
      "id": "5AFe-cgvpGyW",
      "metadata": {
        "colab": {
          "base_uri": "https://localhost:8080/"
        },
        "id": "5AFe-cgvpGyW",
        "outputId": "775c6715-8214-46f2-986a-081212082e7f"
      },
      "outputs": [
        {
          "data": {
            "text/plain": [
              "[['Системный администратор. 29000 руб.. Опыт работы 16 лет 10 месяцев  Август 2010 — по настоящее время 8 лет 10 месяцев МАОУ \"СОШ № 1 г.Немана\" Системный администратор Обслуживание ПК,установка ПО, ремонт, периферийной техники, Интернет локальная сеть. Ведение Электронного журнала, сайта организации.  Август 2002 — Август  2010 8 лет 1 месяц ТС \"ВЕСТЕР-ИНФО\" Старший продавец, директор отдела Продажи компьютерной техники. частичная занятость, проектная работа, полная занятость. гибкий график, полный день, сменный график, вахтовый метод, удаленная работа. Советск (Калининградская область) , не готов к переезду , не готов к командировкам',\n",
              "  'Cистемный администратор / Специалист технической поддержки. от 50000 RUR. От 3 до 6 лет. Полная занятость,полный день. Настройка DNS,Active Directory,Администрирование серверов Windows,Администрирование,Кассовые операции,Подключение торгового оборудования к 1С,DHCP,КриптоПро,Опытный пользователь ПК,Настройка ПК,Администрирование сетевого оборудования,Офисная техника,исполнение поручений руководителя,Английский - Элементарный,Настройка ПО,Грамотность,Техническая поддержка. Краснодар, Центральный микрорайон, Новокузнечная улица, 34/1'],\n",
              " ['Системный администратор. 29000 руб.. Опыт работы 16 лет 10 месяцев  Август 2010 — по настоящее время 8 лет 10 месяцев МАОУ \"СОШ № 1 г.Немана\" Системный администратор Обслуживание ПК,установка ПО, ремонт, периферийной техники, Интернет локальная сеть. Ведение Электронного журнала, сайта организации.  Август 2002 — Август  2010 8 лет 1 месяц ТС \"ВЕСТЕР-ИНФО\" Старший продавец, директор отдела Продажи компьютерной техники. частичная занятость, проектная работа, полная занятость. гибкий график, полный день, сменный график, вахтовый метод, удаленная работа. Советск (Калининградская область) , не готов к переезду , не готов к командировкам',\n",
              "  'Системный администратор. от 40000 RUR. От 3 до 6 лет. Полная занятость,полный день. Настройка сетевого оборудования,Установка ПО,Продвинутый пользователь ПК,Ремонт ПК,Настройка ПК,Настройка ПО,Техническое обслуживание,Настройка сетевых подключений,Офисная техника,Работа с оргтехникой,Электронная почта,Закупка оргтехники и оборудования,Высокая ответственность,Умение работать в условиях многозадачности,Коммуникабельность, ответственность,Ответственный подход к работе. Нефтекамск, Автозаводская улица, 1Б/3'],\n",
              " ['Системный администратор. 29000 руб.. Опыт работы 16 лет 10 месяцев  Август 2010 — по настоящее время 8 лет 10 месяцев МАОУ \"СОШ № 1 г.Немана\" Системный администратор Обслуживание ПК,установка ПО, ремонт, периферийной техники, Интернет локальная сеть. Ведение Электронного журнала, сайта организации.  Август 2002 — Август  2010 8 лет 1 месяц ТС \"ВЕСТЕР-ИНФО\" Старший продавец, директор отдела Продажи компьютерной техники. частичная занятость, проектная работа, полная занятость. гибкий график, полный день, сменный график, вахтовый метод, удаленная работа. Советск (Калининградская область) , не готов к переезду , не готов к командировкам',\n",
              "  'Ведущий it Специалист. от 70000 до 80000 RUR. От 1 года до 3 лет. Полная занятость,полный день. Ремонт ПК,Настройка ПО,Сборка ПК,проектирование СКУД,Выездные мероприятия,Закупка оргтехники и оборудования,Локальные сети,Выездное обслуживание,Администрирование,Аутсорсинг,LAN,Системы видеонаблюдения,Техническая поддержка,Windows 7,Администрирование сетевого оборудования,Настройка сетевых подключений,Настройка ПК,Windows Xp,Автоматизированное рабочее место (АРМ). Москва, 1-я улица Ямского Поля, 17к12'],\n",
              " ['Системный администратор. 29000 руб.. Опыт работы 16 лет 10 месяцев  Август 2010 — по настоящее время 8 лет 10 месяцев МАОУ \"СОШ № 1 г.Немана\" Системный администратор Обслуживание ПК,установка ПО, ремонт, периферийной техники, Интернет локальная сеть. Ведение Электронного журнала, сайта организации.  Август 2002 — Август  2010 8 лет 1 месяц ТС \"ВЕСТЕР-ИНФО\" Старший продавец, директор отдела Продажи компьютерной техники. частичная занятость, проектная работа, полная занятость. гибкий график, полный день, сменный график, вахтовый метод, удаленная работа. Советск (Калининградская область) , не готов к переезду , не готов к командировкам',\n",
              "  'Заместитель начальника ПТО. от 80000 до 100000 RUR. Более 6 лет. Полная занятость,полный день. Строительство,Организаторские навыки,Контроль исполнения решений,Строительное делопроизводство,Оперативное планирование,Наружные инженерные сети,Электрические системы и слаботочные системы,Производственный контроль,Разработка технических заданий,Проектная документация,Пользователь ПК,AutoCAD,Выполнение поставленных задач,Эффективность,Мобильность,планировать и оптимально организовать рабочий процесс,Чтение проектной документации. Воронеж, Центральный район, жилой массив Олимпийский, 1'],\n",
              " ['Системный администратор. 29000 руб.. Опыт работы 16 лет 10 месяцев  Август 2010 — по настоящее время 8 лет 10 месяцев МАОУ \"СОШ № 1 г.Немана\" Системный администратор Обслуживание ПК,установка ПО, ремонт, периферийной техники, Интернет локальная сеть. Ведение Электронного журнала, сайта организации.  Август 2002 — Август  2010 8 лет 1 месяц ТС \"ВЕСТЕР-ИНФО\" Старший продавец, директор отдела Продажи компьютерной техники. частичная занятость, проектная работа, полная занятость. гибкий график, полный день, сменный график, вахтовый метод, удаленная работа. Советск (Калининградская область) , не готов к переезду , не готов к командировкам',\n",
              "  'Сервисный инженер. от 60000 до 80000 RUR. От 1 года до 3 лет. Полная занятость,полный день. Unix,Настройка ПК,IBM Lotus Notes,LAN,Ориентация на клиента,Администрирование серверов,Техническая поддержка,Ремонт ПК,Сборка ПК,Поисковые системы,Ведение отчетности,Администрирование серверов Windows,Windows Server 2003,Настройка сетевых подключений,Администрирование сетевого оборудования,Настройка серверов,Консультирование клиентов. Санкт-Петербург, Магнитогорская улица, 51С']]"
            ]
          },
          "execution_count": 97,
          "metadata": {},
          "output_type": "execute_result"
        }
      ],
      "source": [
        "sem_search_res[:5]"
      ]
    },
    {
      "cell_type": "markdown",
      "id": "Clx04IDFlSdv",
      "metadata": {
        "id": "Clx04IDFlSdv"
      },
      "source": [
        "### MiniLM-L12-v2"
      ]
    },
    {
      "cell_type": "code",
      "execution_count": 31,
      "id": "d4h08raWlS1I",
      "metadata": {
        "id": "d4h08raWlS1I"
      },
      "outputs": [],
      "source": [
        "model_name = 'sentence-transformers/paraphrase-multilingual-MiniLM-L12-v2'"
      ]
    },
    {
      "cell_type": "code",
      "execution_count": 80,
      "id": "LWgh301jlY90",
      "metadata": {
        "colab": {
          "base_uri": "https://localhost:8080/"
        },
        "id": "LWgh301jlY90",
        "outputId": "3ad472e8-269a-40f6-a8bf-ae2d77a2c00b"
      },
      "outputs": [
        {
          "name": "stderr",
          "output_type": "stream",
          "text": [
            "WARNING:sentence_transformers.SentenceTransformer:No sentence-transformers model found with name /root/.cache/torch/sentence_transformers/DeepPavlov_rubert-base-cased-sentence. Creating a new one with MEAN pooling.\n"
          ]
        }
      ],
      "source": [
        "retrieval_model = SentenceTransformer(model_name)"
      ]
    },
    {
      "cell_type": "code",
      "execution_count": 33,
      "id": "5J0D24o3wOI-",
      "metadata": {
        "id": "5J0D24o3wOI-"
      },
      "outputs": [],
      "source": [
        "vacancies_embedding_MiniLML12v2 = retrieval_model.encode(df_vacancies_concat, convert_to_tensor=True)"
      ]
    },
    {
      "cell_type": "code",
      "execution_count": 34,
      "id": "uGdMhSSWwOLw",
      "metadata": {
        "id": "uGdMhSSWwOLw"
      },
      "outputs": [],
      "source": [
        "sem_search_res, sem_search_emb, hits_retrieved = sem_search_results(retrieval_model, query, df_vacancies_concat, vacancies_embedding_MiniLML12v2, 5)"
      ]
    },
    {
      "cell_type": "code",
      "execution_count": 35,
      "id": "w7BSXkxZwOOK",
      "metadata": {
        "colab": {
          "base_uri": "https://localhost:8080/"
        },
        "id": "w7BSXkxZwOOK",
        "outputId": "eadf6c1a-8970-4d4b-f924-6e51b50c3a0d"
      },
      "outputs": [
        {
          "data": {
            "text/plain": [
              "[['Системный администратор. 29000 руб.. Опыт работы 16 лет 10 месяцев  Август 2010 — по настоящее время 8 лет 10 месяцев МАОУ \"СОШ № 1 г.Немана\" Системный администратор Обслуживание ПК,установка ПО, ремонт, периферийной техники, Интернет локальная сеть. Ведение Электронного журнала, сайта организации.  Август 2002 — Август  2010 8 лет 1 месяц ТС \"ВЕСТЕР-ИНФО\" Старший продавец, директор отдела Продажи компьютерной техники. частичная занятость, проектная работа, полная занятость. гибкий график, полный день, сменный график, вахтовый метод, удаленная работа. Советск (Калининградская область) , не готов к переезду , не готов к командировкам',\n",
              "  'Системный администратор. от 40000 до 50000 RUR. От 1 года до 3 лет. Полная занятость,гибкий график. Настройка сетевых подключений,Ремонт ПК,Настройка ПО,Настройка ПК,Настройка серверов,Windows 7,Windows Xp,Выездное обслуживание,Многозадачность,Автоматизированное рабочее место (АРМ),Уверенный пользователь ПК. Саранск, Энергетическая улица, 6'],\n",
              " ['Системный администратор. 29000 руб.. Опыт работы 16 лет 10 месяцев  Август 2010 — по настоящее время 8 лет 10 месяцев МАОУ \"СОШ № 1 г.Немана\" Системный администратор Обслуживание ПК,установка ПО, ремонт, периферийной техники, Интернет локальная сеть. Ведение Электронного журнала, сайта организации.  Август 2002 — Август  2010 8 лет 1 месяц ТС \"ВЕСТЕР-ИНФО\" Старший продавец, директор отдела Продажи компьютерной техники. частичная занятость, проектная работа, полная занятость. гибкий график, полный день, сменный график, вахтовый метод, удаленная работа. Советск (Калининградская область) , не готов к переезду , не готов к командировкам',\n",
              "  'Системный администратор. от 40000 до 120000 RUR. От 1 года до 3 лет. Полная занятость,полный день. Настройка ПК,Настройка ПО,Настройка сетевых подключений,Сборка ПК,Локальные сети,Продвинутый пользователь ПК,ОС Windows,Работа с компьютером,Знание компьютера,Коммуникабельность, ответственность. Ростов-на-Дону, 2-я улица Володарского, 189'],\n",
              " ['Системный администратор. 29000 руб.. Опыт работы 16 лет 10 месяцев  Август 2010 — по настоящее время 8 лет 10 месяцев МАОУ \"СОШ № 1 г.Немана\" Системный администратор Обслуживание ПК,установка ПО, ремонт, периферийной техники, Интернет локальная сеть. Ведение Электронного журнала, сайта организации.  Август 2002 — Август  2010 8 лет 1 месяц ТС \"ВЕСТЕР-ИНФО\" Старший продавец, директор отдела Продажи компьютерной техники. частичная занятость, проектная работа, полная занятость. гибкий график, полный день, сменный график, вахтовый метод, удаленная работа. Советск (Калининградская область) , не готов к переезду , не готов к командировкам',\n",
              "  'Системный администратор. от 50000 RUR. От 1 года до 3 лет. Полная занятость,полный день. Ремонт ПК,Windows 7,Офисная техника,1С: Документооборот,Техническая поддержка,Системное мышление,Ведение переговоров,Настройка ПК,Internet,Сборка ПК,Настройка сетевых подключений,MS Office,Windows 10. Рязань, улица Керамзавода, 21А'],\n",
              " ['Системный администратор. 29000 руб.. Опыт работы 16 лет 10 месяцев  Август 2010 — по настоящее время 8 лет 10 месяцев МАОУ \"СОШ № 1 г.Немана\" Системный администратор Обслуживание ПК,установка ПО, ремонт, периферийной техники, Интернет локальная сеть. Ведение Электронного журнала, сайта организации.  Август 2002 — Август  2010 8 лет 1 месяц ТС \"ВЕСТЕР-ИНФО\" Старший продавец, директор отдела Продажи компьютерной техники. частичная занятость, проектная работа, полная занятость. гибкий график, полный день, сменный график, вахтовый метод, удаленная работа. Советск (Калининградская область) , не готов к переезду , не готов к командировкам',\n",
              "  'Системный администратор. от 50000 RUR. От 1 года до 3 лет. Полная занятость,полный день. Администрирование серверов Windows,Администрирование сетевого оборудования,Настройка почтовых серверов,Настройка сетевых подключений,Системы видеонаблюдения,Администрирование серверов,Опыт работы на производстве,Сборка ПК,Способность анализировать проблемы,Технический склад ума,Желание работать и развиваться. Тольятти, Новозаводская улица, 10В'],\n",
              " ['Системный администратор. 29000 руб.. Опыт работы 16 лет 10 месяцев  Август 2010 — по настоящее время 8 лет 10 месяцев МАОУ \"СОШ № 1 г.Немана\" Системный администратор Обслуживание ПК,установка ПО, ремонт, периферийной техники, Интернет локальная сеть. Ведение Электронного журнала, сайта организации.  Август 2002 — Август  2010 8 лет 1 месяц ТС \"ВЕСТЕР-ИНФО\" Старший продавец, директор отдела Продажи компьютерной техники. частичная занятость, проектная работа, полная занятость. гибкий график, полный день, сменный график, вахтовый метод, удаленная работа. Советск (Калининградская область) , не готов к переезду , не готов к командировкам',\n",
              "  'Системный администратор. от 40000 RUR. От 1 года до 3 лет. Полная занятость,полный день. Настройка сетевых подключений,Windows 7,Настройка ПО,Ремонт ПК,Администрирование сетевого оборудования,Информационные технологии,Настройка ПК,Cистемы управления базами данных,Локальные сети. Севастополь, улица Пожарова, 11']]"
            ]
          },
          "execution_count": 35,
          "metadata": {},
          "output_type": "execute_result"
        }
      ],
      "source": [
        "sem_search_res[:5]"
      ]
    },
    {
      "cell_type": "markdown",
      "id": "-yACKdaeq5-n",
      "metadata": {
        "id": "-yACKdaeq5-n"
      },
      "source": [
        "### DeepPavlov rubert-base-cased-sentence"
      ]
    },
    {
      "cell_type": "code",
      "execution_count": 89,
      "id": "77VECitLwOVZ",
      "metadata": {
        "id": "77VECitLwOVZ"
      },
      "outputs": [],
      "source": [
        "model_name = 'DeepPavlov/rubert-base-cased-sentence'"
      ]
    },
    {
      "cell_type": "code",
      "execution_count": 90,
      "id": "4BRljQS-wOXh",
      "metadata": {
        "colab": {
          "base_uri": "https://localhost:8080/"
        },
        "id": "4BRljQS-wOXh",
        "outputId": "cf47757c-7d0d-48d3-c537-c2e1cba7b8aa"
      },
      "outputs": [
        {
          "name": "stderr",
          "output_type": "stream",
          "text": [
            "WARNING:sentence_transformers.SentenceTransformer:No sentence-transformers model found with name /root/.cache/torch/sentence_transformers/DeepPavlov_rubert-base-cased-sentence. Creating a new one with MEAN pooling.\n"
          ]
        }
      ],
      "source": [
        "retrieval_model = SentenceTransformer(model_name)"
      ]
    },
    {
      "cell_type": "code",
      "execution_count": 38,
      "id": "2pClrSzDwOZ5",
      "metadata": {
        "id": "2pClrSzDwOZ5"
      },
      "outputs": [],
      "source": [
        "vacancies_embedding_DeepPavlovRubertBaseCasedSentence = retrieval_model.encode(df_vacancies_concat, convert_to_tensor=True)"
      ]
    },
    {
      "cell_type": "code",
      "execution_count": 91,
      "id": "iM1Pm6qbwOcV",
      "metadata": {
        "id": "iM1Pm6qbwOcV"
      },
      "outputs": [],
      "source": [
        "sem_search_res, sem_search_emb, hits_retrieved = sem_search_results(retrieval_model, query, df_vacancies_concat, vacancies_embedding_DeepPavlovRubertBaseCasedSentence, 5)"
      ]
    },
    {
      "cell_type": "code",
      "execution_count": 40,
      "id": "a_KX2Hc1wOel",
      "metadata": {
        "colab": {
          "base_uri": "https://localhost:8080/"
        },
        "id": "a_KX2Hc1wOel",
        "outputId": "b43f7573-92e6-4bf4-fc07-9c90ee54e4ca"
      },
      "outputs": [
        {
          "data": {
            "text/plain": [
              "[['Системный администратор. 29000 руб.. Опыт работы 16 лет 10 месяцев  Август 2010 — по настоящее время 8 лет 10 месяцев МАОУ \"СОШ № 1 г.Немана\" Системный администратор Обслуживание ПК,установка ПО, ремонт, периферийной техники, Интернет локальная сеть. Ведение Электронного журнала, сайта организации.  Август 2002 — Август  2010 8 лет 1 месяц ТС \"ВЕСТЕР-ИНФО\" Старший продавец, директор отдела Продажи компьютерной техники. частичная занятость, проектная работа, полная занятость. гибкий график, полный день, сменный график, вахтовый метод, удаленная работа. Советск (Калининградская область) , не готов к переезду , не готов к командировкам',\n",
              "  'Ученик на мебельное производство/сотрудник с опытом работы. от 30000 до 50000 RUR. Нет опыта. Стажировка,полный день. Пользователь ПК,Работа в команде. Кострома, Дровяная улица, 49'],\n",
              " ['Системный администратор. 29000 руб.. Опыт работы 16 лет 10 месяцев  Август 2010 — по настоящее время 8 лет 10 месяцев МАОУ \"СОШ № 1 г.Немана\" Системный администратор Обслуживание ПК,установка ПО, ремонт, периферийной техники, Интернет локальная сеть. Ведение Электронного журнала, сайта организации.  Август 2002 — Август  2010 8 лет 1 месяц ТС \"ВЕСТЕР-ИНФО\" Старший продавец, директор отдела Продажи компьютерной техники. частичная занятость, проектная работа, полная занятость. гибкий график, полный день, сменный график, вахтовый метод, удаленная работа. Советск (Калининградская область) , не готов к переезду , не готов к командировкам',\n",
              "  'Помощник риелтора. от 45000 RUR. Нет опыта. Полная занятость,гибкий график. Пользователь ПК,Активные продажи,Работа в команде,Холодные продажи,Умение работать в команде. Набережные Челны, улица Шамиля Усманова, 42А'],\n",
              " ['Системный администратор. 29000 руб.. Опыт работы 16 лет 10 месяцев  Август 2010 — по настоящее время 8 лет 10 месяцев МАОУ \"СОШ № 1 г.Немана\" Системный администратор Обслуживание ПК,установка ПО, ремонт, периферийной техники, Интернет локальная сеть. Ведение Электронного журнала, сайта организации.  Август 2002 — Август  2010 8 лет 1 месяц ТС \"ВЕСТЕР-ИНФО\" Старший продавец, директор отдела Продажи компьютерной техники. частичная занятость, проектная работа, полная занятость. гибкий график, полный день, сменный график, вахтовый метод, удаленная работа. Советск (Калининградская область) , не готов к переезду , не готов к командировкам',\n",
              "  'Продавец-консультант (микрорайон Солнечный). от 30000 RUR. Нет опыта. Полная занятость,сменный график. Пользователь ПК,Работа в команде,Грамотная речь,Работа с оргтехникой,Электронная почта,Способность быстро обучаться. Красноярск, проспект 60 лет Образования СССР, 24А'],\n",
              " ['Системный администратор. 29000 руб.. Опыт работы 16 лет 10 месяцев  Август 2010 — по настоящее время 8 лет 10 месяцев МАОУ \"СОШ № 1 г.Немана\" Системный администратор Обслуживание ПК,установка ПО, ремонт, периферийной техники, Интернет локальная сеть. Ведение Электронного журнала, сайта организации.  Август 2002 — Август  2010 8 лет 1 месяц ТС \"ВЕСТЕР-ИНФО\" Старший продавец, директор отдела Продажи компьютерной техники. частичная занятость, проектная работа, полная занятость. гибкий график, полный день, сменный график, вахтовый метод, удаленная работа. Советск (Калининградская область) , не готов к переезду , не готов к командировкам',\n",
              "  'Товаровед-оценщик. от 32 RUR. Нет опыта. Полная занятость,сменный график. Пользователь ПК,Работа в команде,оформление документации,Ведение отчетности,Ответственное хранение,Хорошая обучаемость,Материальная ответственность,Устойчивость к стрессам. Кызыл, улица Кечил-Оола, 18'],\n",
              " ['Системный администратор. 29000 руб.. Опыт работы 16 лет 10 месяцев  Август 2010 — по настоящее время 8 лет 10 месяцев МАОУ \"СОШ № 1 г.Немана\" Системный администратор Обслуживание ПК,установка ПО, ремонт, периферийной техники, Интернет локальная сеть. Ведение Электронного журнала, сайта организации.  Август 2002 — Август  2010 8 лет 1 месяц ТС \"ВЕСТЕР-ИНФО\" Старший продавец, директор отдела Продажи компьютерной техники. частичная занятость, проектная работа, полная занятость. гибкий график, полный день, сменный график, вахтовый метод, удаленная работа. Советск (Калининградская область) , не готов к переезду , не готов к командировкам',\n",
              "  'Воспитатель детского сада. от 20000 до 30000 RUR. Нет опыта. Полная занятость,полный день. Пользователь ПК,Работа в команде,Грамотная речь,Организаторские навыки,Умение работать в коллективе,Ведение документации,Позитивное мышление,Воспитанность,Терпеливость,Опрятный внешний вид. Киров, Ленинский район, улица Свободы, 107']]"
            ]
          },
          "execution_count": 40,
          "metadata": {},
          "output_type": "execute_result"
        }
      ],
      "source": [
        "sem_search_res[:5]"
      ]
    },
    {
      "cell_type": "markdown",
      "id": "Pdv4dIsb-fBR",
      "metadata": {
        "id": "Pdv4dIsb-fBR"
      },
      "source": [
        "## Выводы"
      ]
    },
    {
      "cell_type": "markdown",
      "id": "bBcPxQR4BrxX",
      "metadata": {
        "id": "bBcPxQR4BrxX"
      },
      "source": [
        "Выводы по результатам экспериментов: модель multilingual-e5-large показала наилучшие результаты по качеству получаемых эмбеддингов - в топ релевантных вакансий семантического поиска попадают результаты с идентичной должностью. Кроме того, есть совпадения по региону и преимущественная близость мэтчей в опыте работы."
      ]
    },
    {
      "cell_type": "code",
      "execution_count": null,
      "id": "iFMcXvVEq4wR",
      "metadata": {
        "id": "iFMcXvVEq4wR"
      },
      "outputs": [],
      "source": []
    }
  ],
  "metadata": {
    "accelerator": "GPU",
    "colab": {
      "gpuType": "T4",
      "provenance": []
    },
    "kernelspec": {
      "display_name": "Python 3",
      "name": "python3"
    },
    "language_info": {
      "codemirror_mode": {
        "name": "ipython",
        "version": 3
      },
      "file_extension": ".py",
      "mimetype": "text/x-python",
      "name": "python",
      "nbconvert_exporter": "python",
      "pygments_lexer": "ipython3",
      "version": "3.11.4"
    },
    "toc": {
      "base_numbering": 1,
      "nav_menu": {},
      "number_sections": true,
      "sideBar": true,
      "skip_h1_title": false,
      "title_cell": "Table of Contents",
      "title_sidebar": "Contents",
      "toc_cell": false,
      "toc_position": {},
      "toc_section_display": true,
      "toc_window_display": false
    }
  },
  "nbformat": 4,
  "nbformat_minor": 5
}
